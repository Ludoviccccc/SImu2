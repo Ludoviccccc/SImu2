{
 "cells": [
  {
   "cell_type": "code",
   "execution_count": 1,
   "id": "9912ecbf-c028-47a9-9a0c-2dcd7716becc",
   "metadata": {},
   "outputs": [],
   "source": [
    "N = 10000\n",
    "N_init = 1000\n",
    "pwd = 'all_images/image_test'\n",
    "pwd_data = 'all_data/data_short'"
   ]
  },
  {
   "cell_type": "code",
   "execution_count": 2,
   "id": "90885f1d-b515-4607-95ef-345e48b03855",
   "metadata": {},
   "outputs": [
    {
     "name": "stderr",
     "output_type": "stream",
     "text": [
      "/home/ludovic/.local/lib/python3.12/site-packages/matplotlib/projections/__init__.py:63: UserWarning: Unable to import Axes3D. This may be due to multiple versions of Matplotlib being installed (e.g. as a system package and as a pip package). As a result, the 3D projection is not available.\n",
      "  warnings.warn(\"Unable to import Axes3D. This may be due to multiple versions of \"\n"
     ]
    }
   ],
   "source": [
    "import os\n",
    "import json\n",
    "import pickle\n",
    "import random\n",
    "from sim.sim_use import make_random_paire_list_instr\n",
    "from exploration.history import History\n",
    "from exploration.imgep.features import Features\n",
    "import numpy as np\n",
    "from exploration.env.func import Env\n",
    "from  exploration.imgep.OptimizationPolicy import OptimizationPolicykNN\n",
    "from exploration.imgep.intrinsic_reward import IR\n",
    "import torch.optim as optim\n",
    "from torch.nn.utils.rnn import pad_sequence\n",
    "import matplotlib.pyplot as plt"
   ]
  },
  {
   "cell_type": "code",
   "execution_count": 3,
   "id": "013ea3c9-0011-4671-8bdf-90cdde5765b2",
   "metadata": {
    "jupyter": {
     "source_hidden": true
    }
   },
   "outputs": [],
   "source": [
    "with open(os.path.join(pwd,'config_plots.json'),'rb') as f:\n",
    "    config = json.load(f)"
   ]
  },
  {
   "cell_type": "code",
   "execution_count": 4,
   "id": "397c8adf-615a-45a9-bb8c-9caf735fbd9b",
   "metadata": {
    "jupyter": {
     "source_hidden": true
    }
   },
   "outputs": [],
   "source": [
    "with open(os.path.join(pwd_data,'modules.json'),'rb') as f:\n",
    "    modules_dict = json.load(f)\n",
    "modules = modules_dict[\"modules\"]"
   ]
  },
  {
   "cell_type": "code",
   "execution_count": 5,
   "id": "52bc5399-3ab5-44f4-8aa9-bc46e469cb9c",
   "metadata": {
    "jupyter": {
     "source_hidden": true
    }
   },
   "outputs": [],
   "source": [
    "with open(os.path.join(pwd_data,'config.json'),'rb') as f:\n",
    "    config_data = json.load(f)"
   ]
  },
  {
   "cell_type": "code",
   "execution_count": 6,
   "id": "80b98717-e609-4abb-aeba-aa73694dcf75",
   "metadata": {},
   "outputs": [],
   "source": [
    "H = History(N)"
   ]
  },
  {
   "cell_type": "code",
   "execution_count": 7,
   "id": "789fc688-e751-4de9-a443-5b5c100bb3e2",
   "metadata": {
    "jupyter": {
     "source_hidden": true
    }
   },
   "outputs": [
    {
     "data": {
      "text/plain": [
       "{'files': [{'folder': 'all_data/data_short',\n",
       "   'file': 'history_kNN_2_N_1000_lp_0.pkl',\n",
       "   'name': 'imgep_ir k=2,N=1000',\n",
       "   'k': 2,\n",
       "   'N': 1000,\n",
       "   'type': 'imgep_ir'},\n",
       "  {'folder': 'all_data/data_short',\n",
       "   'file': 'history_kNN_2_N_1000_no_lp_0.pkl',\n",
       "   'name': 'imgep_no_ir k=2,N=1000',\n",
       "   'k': 2,\n",
       "   'N': 1000,\n",
       "   'type': 'imgep_no_ir'}],\n",
       " 'N_init': 100,\n",
       " 'N': 1000,\n",
       " 'image_folder': 'all_images/image_test',\n",
       " 'random': {'folder': 'all_data/data_short',\n",
       "  'N': 1000,\n",
       "  'file': 'history_rand_N_1000_0.pkl',\n",
       "  'name': 'random'},\n",
       " 'num_bank': 4,\n",
       " 'num_addr': 20,\n",
       " 'ks': [2]}"
      ]
     },
     "execution_count": 7,
     "metadata": {},
     "output_type": "execute_result"
    }
   ],
   "source": [
    "config"
   ]
  },
  {
   "cell_type": "code",
   "execution_count": 8,
   "id": "95487c1c-8afc-4d82-9b36-82236970d71b",
   "metadata": {},
   "outputs": [],
   "source": [
    "data = config[\"files\"][0]"
   ]
  },
  {
   "cell_type": "code",
   "execution_count": 9,
   "id": "70c82227-5349-4f28-937a-3b76b95142fd",
   "metadata": {
    "jupyter": {
     "source_hidden": true
    }
   },
   "outputs": [],
   "source": [
    "with open(os.path.join(data[\"folder\"],data[\"file\"]), \"rb\") as f:\n",
    "    sample = pickle.load(f)\n",
    "    content = sample[\"memory_perf\"]"
   ]
  },
  {
   "cell_type": "code",
   "execution_count": 10,
   "id": "ae1acf1b-7e22-46dd-a773-f51e07bc6238",
   "metadata": {
    "jupyter": {
     "source_hidden": true
    }
   },
   "outputs": [],
   "source": [
    "H.memory_program[\"core0\"] = sample[\"memory_program\"][\"core0\"]\n",
    "H.memory_program[\"core1\"] = sample[\"memory_program\"][\"core1\"]\n",
    "for key in sample[\"memory_perf\"].keys():\n",
    "    H.memory_perf[key]= list(sample[\"memory_perf\"][key])"
   ]
  },
  {
   "cell_type": "code",
   "execution_count": 11,
   "id": "5d4dafb6-f2f6-4240-9afd-5eb4cb68db01",
   "metadata": {},
   "outputs": [],
   "source": [
    "F = Features()"
   ]
  },
  {
   "cell_type": "code",
   "execution_count": null,
   "id": "7985e7f3-b943-473c-b7fc-79a6637a69bc",
   "metadata": {},
   "outputs": [],
   "source": []
  },
  {
   "cell_type": "code",
   "execution_count": 12,
   "id": "f07feeed-f08c-4137-81d1-1649d12066d1",
   "metadata": {},
   "outputs": [],
   "source": [
    "ratios_type = []\n",
    "other_type = []\n",
    "for m in modules:\n",
    "    if m[\"type\"] in [\"miss_ratios\",\"miss_ratios_detailled\"]:\n",
    "        m[\"bins\"] = np.linspace(0,1,101)\n",
    "        ratios_type.append(m)\n",
    "    else:\n",
    "        other_type.append(m)\n",
    "        "
   ]
  },
  {
   "cell_type": "code",
   "execution_count": 13,
   "id": "20b58a36-207a-43f7-badd-47c2be5368ab",
   "metadata": {},
   "outputs": [],
   "source": [
    "import torch\n",
    "import torch.nn as nn\n",
    "from torch import distributions"
   ]
  },
  {
   "cell_type": "code",
   "execution_count": 14,
   "id": "65c8924e-aebd-408b-b24d-205118ac8728",
   "metadata": {},
   "outputs": [],
   "source": [
    "class Tool:\n",
    "    def __init__(self):\n",
    "        pass\n",
    "    def Qf(self,state:np.ndarray,action:np.ndarray):\n",
    "        return self.q(state,action)\n",
    "    def Qf_target(self,state:np.ndarray,action:np.ndarray):\n",
    "        return self.q_target(state,action)\n",
    "    def update_target_net(self):\n",
    "        for (name_q, param_q),(name_q_target,param_q_target) in zip(self.q.state_dict().items(),self.q_target.state_dict().items()):\n",
    "            param_q_target.copy_(self.tau*param_q + (1.0 - self.tau)*param_q_target)\n",
    "    def updatePi(self,\n",
    "                 api:dict,\n",
    "                 logpi,\n",
    "                 state:dict):\n",
    "        advantage = self.Qf(state,api).squeeze()\n",
    "        advantage = advantage.detach()\n",
    "        NegativPseudoLoss = torch.mean(torch.mul(logpi.squeeze(),advantage)) \n",
    "        NegativPseudoLoss.backward()\n",
    "        self.optimizerpi.step()\n",
    "        return NegativPseudoLoss\n",
    "    def updateQ(self,\n",
    "                states:dict,\n",
    "                actions:dict,\n",
    "                targets):  \n",
    "        for k in range(self.k):\n",
    "            self.optimizer_q.zero_grad()\n",
    "            if self.Qf(states,actions).squeeze().shape!=targets.squeeze().shape:\n",
    "                raise TypeError(f\"shape Qf {self.Qf(states,actions).squeeze().shape} and targets {targets.squeeze().shape} for actions {actions}, states {states}\")\n",
    "            loss = torch.nn.functional.mse_loss(self.Qf(states,actions).squeeze(),targets.squeeze())\n",
    "            loss.backward()\n",
    "            self.optimizer_q.step()\n",
    "        return loss\n",
    "    def boltzman_policy(self,state:dict):\n",
    "        if np.random.binomial(1,self.epsilon):\n",
    "            out = np.random.randint(0,self.Na)\n",
    "        else:\n",
    "            out = self.policy(state)\n",
    "            out = int(out.detach().item())\n",
    "        return out \n",
    "    def load(self,start:int):\n",
    "        self.q.load_state_dict(torch.load(os.path.join(self.loadpath,f\"q_1_load_{start}.pt\"),weights_only=True))\n",
    "        self.policy.load_state_dict(torch.load(os.path.join(self.loadpath,f\"pi_1_load_{start}.pt\"),weights_only=True))\n",
    "        self.optimizerpi.load_state_dict(torch.load(os.path.join(self.optpath,f\"opt_1_pi_load_{start}.pt\")))\n",
    "        self.optimizer_q.load_state_dict(torch.load(os.path.join(self.optpath,f\"opt_1_q_load_{start}.pt\")))\n",
    "    def save(self,j):\n",
    "        torch.save(self.policy.state_dict(), os.path.join(self.loadpath,f\"pi_1_load_{j}.pt\"))\n",
    "        torch.save(self.optimizerpi.state_dict(), os.path.join(self.optpath,f\"opt_1_pi_load_{j}.pt\"))\n",
    "        torch.save(self.q.state_dict(), os.path.join(self.loadpath,f\"q_1_load_{j}.pt\"))\n",
    "        torch.save(self.optimizer_q.state_dict(), os.path.join(self.optpath,f\"opt_1_q_load_{j}.pt\"))"
   ]
  },
  {
   "cell_type": "code",
   "execution_count": 15,
   "id": "d28746dd-f3bc-49ab-9e26-10d5fae6849e",
   "metadata": {},
   "outputs": [],
   "source": [
    "class Policy(nn.Module):\n",
    "    def __init__(self,\n",
    "                 first_layer_size:int,\n",
    "                ):\n",
    "        super(Policy,self).__init__()\n",
    "        self.first_layer_size = first_layer_size\n",
    "        self.Na = first_layer_size\n",
    "        self.linear1 = nn.Linear(self.first_layer_size,16)\n",
    "        self.linear2 = nn.Linear(16,16)\n",
    "        self.linear3 = nn.Linear(16,first_layer_size)\n",
    "        self.actions_encod = torch.eye(self.Na)\n",
    "        self.actv = nn.Sigmoid()\n",
    "    def rep_ac(self,s:list[int]):\n",
    "        out = pad_sequence([self.actions_encod[int(i)] for i in s]).permute(1,0)\n",
    "        return out\n",
    "\n",
    "    def forward(self,x,logpi = False):\n",
    "        x = torch.Tensor(x)\n",
    "        x = torch.mul(x,1.0/5000)\n",
    "        out = self.linear1(x)\n",
    "        out = self.actv(out)\n",
    "        out = self.linear2(out)\n",
    "        out  =self.actv(out)\n",
    "        logits = self.linear3(out)\n",
    "        #print(\"logits\", logits.shape)\n",
    "        dist = distributions.Categorical(torch.nn.functional.softmax(logits,dim=1))\n",
    "        action = dist.sample([1]).squeeze()\n",
    "        if logpi:\n",
    "            try:\n",
    "                logpi = torch.nn.functional.cross_entropy(logits,self.rep_ac(action),weight = None, reduction = 'none')\n",
    "            except:\n",
    "                logpi = torch.nn.functional.cross_entropy(logits,self.actions_encod[action].unsqueeze(0),weight = None, reduction = 'none')\n",
    "                \n",
    "            return action,logpi\n",
    "        else:\n",
    "            return action\n",
    "    "
   ]
  },
  {
   "cell_type": "code",
   "execution_count": 16,
   "id": "8c18853f-af23-458b-8220-954371f835ed",
   "metadata": {},
   "outputs": [
    {
     "name": "stdout",
     "output_type": "stream",
     "text": [
      "0\n",
      "tensor(14)\n"
     ]
    }
   ],
   "source": [
    "a = torch.tensor(14)\n",
    "print(a.ndim)\n",
    "print(a)"
   ]
  },
  {
   "cell_type": "code",
   "execution_count": 258,
   "id": "caa1e78e-f278-4a7d-900b-21ac261cb99a",
   "metadata": {},
   "outputs": [],
   "source": [
    "class Q(nn.Module):\n",
    "    def __init__(self,first_layer_size):\n",
    "        super(Q,self).__init__()\n",
    "        self.linear1 = nn.Linear(first_layer_size,first_layer_size)\n",
    "        self.encod = torch.eye(first_layer_size)\n",
    "        self.Na = first_layer_size\n",
    "        self.actions_encod = torch.eye(self.Na)\n",
    "    def rep_ac(self,s:list[int]):\n",
    "        actions_encod = torch.eye(self.Na)\n",
    "        out = pad_sequence([self.actions_encod[int(i)] for i in s]).permute(1,0)\n",
    "        return out\n",
    "    def forward(self,state,action):\n",
    "        state = torch.Tensor(state*1.0/5000)\n",
    "        out = self.linear1(state)  \n",
    "        try:\n",
    "            out = torch.mul(self.rep_ac(action),out)\n",
    "        except:\n",
    "            out = torch.mul(self.actions_encod[action],out)\n",
    "        out = torch.sum(out,dim=1)\n",
    "        return out\n",
    "\n"
   ]
  },
  {
   "cell_type": "code",
   "execution_count": 259,
   "id": "663020e8-9101-48f2-bcdf-1193bf4d88f2",
   "metadata": {},
   "outputs": [],
   "source": [
    "policy = Policy(len(ratios_type[0][\"bins\"])-1)"
   ]
  },
  {
   "cell_type": "code",
   "execution_count": 260,
   "id": "cb92d785-9561-4341-b51b-27827b4f84c1",
   "metadata": {},
   "outputs": [
    {
     "name": "stdout",
     "output_type": "stream",
     "text": [
      "101\n"
     ]
    }
   ],
   "source": [
    "print(len(ratios_type[0][\"bins\"]))"
   ]
  },
  {
   "cell_type": "code",
   "execution_count": 261,
   "id": "bdb011eb-05c3-4c5c-b500-16f2bec69d98",
   "metadata": {},
   "outputs": [],
   "source": [
    "q = Q(first_layer_size = len(ratios_type[0][\"bins\"])-1)\n",
    "q_target = Q(first_layer_size = len(ratios_type[0][\"bins\"])-1)"
   ]
  },
  {
   "cell_type": "code",
   "execution_count": 262,
   "id": "beeaaba7-fb54-467a-96e0-08d3e9fce518",
   "metadata": {},
   "outputs": [],
   "source": [
    "feature = F.data2feature(H.memory_perf,ratios_type[0])\n",
    "hist,_ = np.histogram(feature,bins=ratios_type[0][\"bins\"])"
   ]
  },
  {
   "cell_type": "code",
   "execution_count": 263,
   "id": "158b537b-2c59-4e55-9388-859e5fbe9049",
   "metadata": {},
   "outputs": [
    {
     "data": {
      "text/plain": [
       "100"
      ]
     },
     "execution_count": 263,
     "metadata": {},
     "output_type": "execute_result"
    }
   ],
   "source": [
    "len(hist)"
   ]
  },
  {
   "cell_type": "code",
   "execution_count": 264,
   "id": "4f52e76c-027d-40bf-8687-6dd5dea7c9dc",
   "metadata": {},
   "outputs": [
    {
     "data": {
      "text/plain": [
       "tensor([-0.0572], grad_fn=<SumBackward1>)"
      ]
     },
     "execution_count": 264,
     "metadata": {},
     "output_type": "execute_result"
    }
   ],
   "source": [
    "q(hist.reshape((1,-1)),4)"
   ]
  },
  {
   "cell_type": "code",
   "execution_count": 265,
   "id": "865fc43a-0dcd-4618-93fc-744e2c99493a",
   "metadata": {},
   "outputs": [
    {
     "name": "stdout",
     "output_type": "stream",
     "text": [
      "torch.Size([2, 100])\n"
     ]
    }
   ],
   "source": [
    "H_ = torch.Tensor(hist.reshape((1,-1)))\n",
    "s = torch.cat((H_,H_),dim=0)\n",
    "print(s.shape)"
   ]
  },
  {
   "cell_type": "code",
   "execution_count": 266,
   "id": "ac639f0c-0203-4275-9c6a-3dfad8c1df43",
   "metadata": {},
   "outputs": [
    {
     "data": {
      "text/plain": [
       "tensor([-0.0842, -0.0842], grad_fn=<SumBackward1>)"
      ]
     },
     "execution_count": 266,
     "metadata": {},
     "output_type": "execute_result"
    }
   ],
   "source": [
    "q(s,[9,9])"
   ]
  },
  {
   "cell_type": "code",
   "execution_count": 267,
   "id": "3bb0683d-64da-4c87-847d-d10be9d2c387",
   "metadata": {},
   "outputs": [
    {
     "data": {
      "text/plain": [
       "tensor(30)"
      ]
     },
     "execution_count": 267,
     "metadata": {},
     "output_type": "execute_result"
    }
   ],
   "source": [
    "policy(hist.reshape((1,-1)))"
   ]
  },
  {
   "cell_type": "code",
   "execution_count": 268,
   "id": "24067139-c5a5-435e-92e3-676e8b1c9719",
   "metadata": {},
   "outputs": [],
   "source": [
    "class Buffer:\n",
    "    def __init__(self):\n",
    "        self.memory = {\"state\":[],\"action\":[],\"reward\":[],\"new_state\":[]}\n",
    "    def store(self,dict_):\n",
    "        for key in self.memory.keys():\n",
    "            self.memory[key].append(dict_[key])\n",
    "    def sample(self,N):\n",
    "        \"\"\"\n",
    "        returns dictionnary of state, action, new_state and reward\n",
    "        \"\"\"\n",
    "        assert(type(N)==int and N>0 and N<=len(self.memory[\"state\"]))\n",
    "        selection = torch.randint(0,len(self.memory[\"state\"]),(N,))\n",
    "        state = np.array([self.memory[\"state\"][j] for j in selection])\n",
    "        action = np.array([self.memory[\"action\"][j] for j in selection])\n",
    "        new_state = np.array([self.memory[\"new_state\"][j] for j in selection])\n",
    "        reward = np.array([self.memory[\"reward\"][j] for j in selection])\n",
    "        return {\"state\":state, \"action\":action, \"new_state\":new_state,\"reward\": reward}\n",
    "    def __len__(self):\n",
    "        return len(self.memory[\"state\"])\n",
    "\n"
   ]
  },
  {
   "cell_type": "code",
   "execution_count": 269,
   "id": "98ad7885-849d-4613-9785-d1c23ce317b9",
   "metadata": {},
   "outputs": [],
   "source": [
    "class Agent(Tool):\n",
    "    def __init__(self,\n",
    "                policy:Policy,\n",
    "                q:Q,\n",
    "                q_target:Q,\n",
    "                buffer:Buffer,\n",
    "                lr_pi:float,\n",
    "                lr_q:float,\n",
    "                epsilon:float=1.0,\n",
    "                Na:int=100,\n",
    "                k:int=3,\n",
    "                gamma:float=.95,\n",
    "                tau:float=0.01,\n",
    "                loadpath:str=\"loadpath\",\n",
    "                optpath:str=\"optpath\"):\n",
    "        Tool.__init__(self)\n",
    "        self.loadpath = loadpath\n",
    "        self.optpath = optpath\n",
    "        self.epsilon = epsilon\n",
    "        self.Na = Na\n",
    "        self.policy = policy\n",
    "        self.buffer = buffer\n",
    "        self.q = q\n",
    "        self.q_target = q_target\n",
    "        self.tau = tau\n",
    "        self.gamma = gamma\n",
    "        self.k = k\n",
    "        self.optimizerpi = optim.Adam(self.policy.parameters(),lr=   lr_pi)\n",
    "        self.optimizer_q = optim.Adam(self.q.parameters(), lr = lr_q)\n",
    "        self.history_reward = []\n",
    "        self.loss_pi = []\n",
    "        self.rep_ac = torch.eye(self.Na)\n",
    "        self.iteration = 0\n",
    "    def update(self,state,action,reward,new_state):\n",
    "        self.buffer.store({\"state\":state,\"action\":action,\"reward\":reward,\"new_state\":new_state})\n",
    "        sample = self.buffer.sample(min(5,len(self.buffer)))\n",
    "        a_prim = self.policy(sample[\"state\"])\n",
    "        targets = torch.Tensor(sample[\"reward\"]) + self.gamma*self.Qf_target(sample[\"new_state\"],a_prim).detach().squeeze()\n",
    "        #update critic\n",
    "        loss_ = self.updateQ(sample[\"state\"],sample[\"action\"],targets)\n",
    "        agent.optimizerpi.zero_grad()\n",
    "        #return 0\n",
    "        api,  logpi = self.policy(sample[\"state\"], logpi = True)\n",
    "        nploss = agent.updatePi(\n",
    "                                api,\n",
    "                                logpi,\n",
    "                                sample[\"state\"])\n",
    "        self.loss_pi.append(nploss.item())\n",
    "        self.history_reward.append(reward)\n",
    "        self.update_target_net()\n",
    "        if self.iteration%100==0 and self.iteration>0:\n",
    "            self.save(self.iteration)\n",
    "        if self.iteration%100==0 and self.iteration>0:\n",
    "            plt.figure()\n",
    "            plt.plot(self.history_reward)\n",
    "            plt.title(\"reward\")\n",
    "            plt.xlabel(\"iteration\")\n",
    "            plt.ylabel(\"reward\")\n",
    "            plt.savefig(\"reward\")\n",
    "            plt.close()\n",
    "        self.iteration+=1"
   ]
  },
  {
   "cell_type": "code",
   "execution_count": 359,
   "id": "eb9e97f9-c0de-433e-854a-b300b59f779d",
   "metadata": {},
   "outputs": [],
   "source": [
    "class GoalGenerator(Features,Tool):\n",
    "    def __init__(self,\n",
    "                 num_bank:int,\n",
    "                 modules:list,\n",
    "                 H:History,\n",
    "                 agent:Agent\n",
    "                 ):\n",
    "        #super().__init__()\n",
    "        Features.__init__(self)\n",
    "        Tool.__init__(self)\n",
    "        self.num_bank = num_bank\n",
    "        self.k_time = 0\n",
    "        self.k_miss = 0\n",
    "        self.modules = modules\n",
    "        self.history = H\n",
    "        self.agent = agent\n",
    "        \n",
    "    def rand(self,stat)->np.ndarray:\n",
    "        min_ = stat.min(axis=-1)\n",
    "        max_ = stat.max(axis=-1)\n",
    "        out = np.random.uniform((1-np.sign(min_)*0.6)*min_,4.0*max_)\n",
    "        return out\n",
    "    def diversity_representation(self,module:dict):\n",
    "        feature = self.data2feature(self.history.memory_perf,m)\n",
    "        hist,_ = np.histogram(feature,bins=m[\"bins\"])\n",
    "        return hist\n",
    "    def __call__(self,H:History, module:str)->np.ndarray:\n",
    "        assert module in self.modules, f\"module {module} unknown\"\n",
    "        stat = self.diversity_representation(module)\n",
    "        if module[\"type\"] not in [\"miss_ratios\",\"miss_ratios_detailled\",\"miss_count\"]:\n",
    "            out = self.rand(stat)\n",
    "        else:\n",
    "            state  = self.diversity_representation(module)\n",
    "            module[\"state\"] = state\n",
    "            for m in self.modules:\n",
    "                m[\"div_goal\"] = np.sum(self.diversity_representation(module)>0)\n",
    "            if False:\n",
    "                out = self.rand(stat)\n",
    "            else:\n",
    "                action = self.agent.boltzman_policy(state.reshape((1,-1)))\n",
    "                out = np.random.uniform(module[\"bins\"][action],module[\"bins\"][action+1])\n",
    "                module[\"action\"] = action\n",
    "        self.current_module = module\n",
    "        return out\n",
    "    def evaluate_reward(self,module):\n",
    "        for m in self.modules:\n",
    "            if m[\"div_goal\"]==0:\n",
    "                m[\"progress\"] = np.sum(self.diversity_representation(m)>0) - m[\"div_goal\"]\n",
    "            else:\n",
    "                m[\"progress\"] = (np.sum(self.diversity_representation(m)>0) - m[\"div_goal\"])/m[\"div_goal\"]\n",
    "        reward = 0\n",
    "        for m in self.modules:\n",
    "            reward += m[\"progress\"]\n",
    "        return reward  \n",
    "    def update(self,module):\n",
    "        if module[\"type\"] in [\"miss_ratios\",\"miss_ratios_detailled\",\"miss_count\"]:\n",
    "            state = module[\"state\"]\n",
    "            action = module[\"action\"]\n",
    "            print(\"action\", action)\n",
    "            new_state  = self.diversity_representation(module)\n",
    "            reward = self.evaluate_reward(module)\n",
    "            agent.update(state,action,reward,new_state)\n",
    "            agent.epsilon = max(0.01,agent.epsilon*.97)\n",
    "            #print(\"div\", np.sum(new_state>0))"
   ]
  },
  {
   "cell_type": "code",
   "execution_count": 360,
   "id": "1f71fe6a-0518-4e8b-aed0-fb3583af7159",
   "metadata": {},
   "outputs": [],
   "source": [
    "class IMGEP_:\n",
    "    \"\"\"\n",
    "    N: int. The experimental budget\n",
    "    N_init: int. Number of experiments at random\n",
    "    H: History. Buffer containing codes and signature pairs\n",
    "    G: GoalGenerator.\n",
    "    Pi: OptimizationPolicy.\n",
    "    \"\"\"\n",
    "    def __init__(self,\n",
    "                 N:int,\n",
    "                 N_init:int,\n",
    "                 E:Env,\n",
    "                 H:History,\n",
    "                 G:GoalGenerator, \n",
    "                 Pi:OptimizationPolicykNN,\n",
    "                 ir:IR,\n",
    "                 modules:list[dict],\n",
    "                 periode:int = 1,\n",
    "                 max_len:int = 100):\n",
    "        self.N = N\n",
    "        self.env = E\n",
    "        self.H = H\n",
    "        self.G = G\n",
    "        self.N_init = N_init\n",
    "        self.Pi = Pi\n",
    "        self.ir = ir\n",
    "        self.periode = periode\n",
    "        self.modules = modules \n",
    "        self.max_len = max_len\n",
    "        self.start = 0\n",
    "        self.periode_expl = 10\n",
    "        self.k = 0\n",
    "    def take(self,sample:dict,N_init:int): \n",
    "        \"\"\"Takes the ``N_init`` first steps from the ``sample`` dictionnary to initialize the exploration. \n",
    "        Then the iterator i is set to N_init directly\n",
    "        \"\"\"\n",
    "        print(\"sampl\", sample.keys())\n",
    "        for key in sample[\"memory_perf\"].keys():\n",
    "            self.H.memory_perf[key]= list(sample[\"memory_perf\"][key][:N_init])\n",
    "        self.H.memory_program[\"core0\"] = sample[\"memory_program\"][\"core0\"][:N_init]\n",
    "        self.H.memory_program[\"core1\"] = sample[\"memory_program\"][\"core1\"][:N_init]\n",
    "        self.start = N_init"
   ]
  },
  {
   "cell_type": "code",
   "execution_count": 386,
   "id": "87085ad6-c4ad-4f0f-a7fc-8ca67c1d60f2",
   "metadata": {},
   "outputs": [],
   "source": [
    "class IMGEP(IMGEP_):\n",
    "    def __init__(self,\n",
    "                 N:int,\n",
    "                 N_init:int,\n",
    "                 E:Env,\n",
    "                 H:History,\n",
    "                 G:GoalGenerator, \n",
    "                 Pi:OptimizationPolicykNN,\n",
    "                 ir:IR,\n",
    "                 modules:list[dict],\n",
    "                 periode:int = 1,\n",
    "                 max_len:int = 100):\n",
    "        super(IMGEP,self).__init__(N,N_init, En,H,G,Pi,ir=ir, modules = modules, periode = periode, max_len = max_len)\n",
    "    def __call__(self,intr_reward=True):\n",
    "        \n",
    "        \"\"\"Performs the exploration.\n",
    "        intr_reward:bool. If True, the exploration uses intrinsic reward based on diversity\n",
    "        \"\"\"\n",
    "        time_explor = 0\n",
    "        for i in range(self.start,self.N+1):\n",
    "            if i%100==0:\n",
    "                print(f\"{i} iterations\")\n",
    "            if i<time_explor:\n",
    "                continue\n",
    "            if i<self.N_init:\n",
    "                parameter = make_random_paire_list_instr(self.max_len,num_addr=self.env.num_addr)\n",
    "            else:\n",
    "                if intr_reward:\n",
    "                    #Sample target goal\n",
    "                    if (i-self.N_init)%(self.periode_expl*self.periode)==0:\n",
    "                        self.ir(self.N)\n",
    "                        time_explor = i + self.ir.num_iteration*len(self.ir.modules)\n",
    "                        print(\"time explor\", time_explor)\n",
    "                        module = self.ir.choice()\n",
    "                        goal = self.G(self.H, module = module)\n",
    "                        print(\"i\",i,\"module type\",module[\"type\"],\"diversity\",module[\"diversity\"])\n",
    "                        print(\"probs\", self.ir.prob())\n",
    "                        continue\n",
    "                    elif (i-self.N_init)%self.periode==0:\n",
    "                        module = self.ir.choice()\n",
    "                        goal = self.G(self.H, module = module)\n",
    "                        print(\"module type\",module[\"type\"],\"diversity\",module[\"diversity\"])\n",
    "                        print(\"probs\", self.ir.prob())\n",
    "                else:\n",
    "                    if (i-self.N_init)%self.periode==0 and i>=self.N_init:\n",
    "                        module = random.choice(self.modules)\n",
    "                    if (i-self.N_init)>=1:\n",
    "                        previous_module = module\n",
    "                    goal = self.G(self.H, module = module)\n",
    "                    print(\"i\",i,\"module type\",module[\"type\"],\"diversity\",np.sum(self.G.diversity_representation(module)>0))\n",
    "                        #print(\"nb elements\", len(self.H.memory_perf[\"miss_ratios\"]))\n",
    "                parameter = self.Pi(goal,self.H, module)\n",
    "            observation = self.env(parameter)\n",
    "            self.H.store({\"program\":parameter}|observation)\n",
    "            if i>=self.N_init + 1:\n",
    "                self.G.update(previous_module)\n",
    "                print(\"i\",i,\"module update\", previous_module[\"type\"],\"diversity\",np.sum(self.G.diversity_representation(previous_module)>0))\n",
    "                #print(\"nb elements update\", len(self.H.memory_perf[\"miss_ratios\"]))"
   ]
  },
  {
   "cell_type": "code",
   "execution_count": 387,
   "id": "81f9f3dc-269b-42a5-ac8f-66b31b5c11a9",
   "metadata": {},
   "outputs": [],
   "source": [
    "num_bank = 4"
   ]
  },
  {
   "cell_type": "code",
   "execution_count": 388,
   "id": "1f4c3390-134d-47f7-a6c2-99248d2c0f1d",
   "metadata": {},
   "outputs": [],
   "source": [
    "buffer = Buffer()"
   ]
  },
  {
   "cell_type": "code",
   "execution_count": 389,
   "id": "36d31575-b606-4089-af76-df4694b7b2dd",
   "metadata": {},
   "outputs": [],
   "source": [
    "lr_pi = 1e-3\n",
    "lr_q = 1e-3"
   ]
  },
  {
   "cell_type": "code",
   "execution_count": 390,
   "id": "0d283f47-3477-4e40-98ed-4f9f34b43c48",
   "metadata": {},
   "outputs": [
    {
     "name": "stdout",
     "output_type": "stream",
     "text": [
      "Help on class Agent in module __main__:\n",
      "\n",
      "class Agent(Tool)\n",
      " |  Agent(policy: __main__.Policy, q: __main__.Q, q_target: __main__.Q, buffer: __main__.Buffer, lr_pi: float, lr_q: float, epsilon: float = 1.0, Na: int = 100, k: int = 3, gamma: float = 0.95, tau: float = 0.01, loadpath: str = 'loadpath', optpath: str = 'optpath')\n",
      " |\n",
      " |  Method resolution order:\n",
      " |      Agent\n",
      " |      Tool\n",
      " |      builtins.object\n",
      " |\n",
      " |  Methods defined here:\n",
      " |\n",
      " |  __init__(self, policy: __main__.Policy, q: __main__.Q, q_target: __main__.Q, buffer: __main__.Buffer, lr_pi: float, lr_q: float, epsilon: float = 1.0, Na: int = 100, k: int = 3, gamma: float = 0.95, tau: float = 0.01, loadpath: str = 'loadpath', optpath: str = 'optpath')\n",
      " |      Initialize self.  See help(type(self)) for accurate signature.\n",
      " |\n",
      " |  update(self, state, action, reward, new_state)\n",
      " |\n",
      " |  ----------------------------------------------------------------------\n",
      " |  Methods inherited from Tool:\n",
      " |\n",
      " |  Qf(self, state: numpy.ndarray, action: numpy.ndarray)\n",
      " |\n",
      " |  Qf_target(self, state: numpy.ndarray, action: numpy.ndarray)\n",
      " |\n",
      " |  boltzman_policy(self, state: dict)\n",
      " |\n",
      " |  load(self, start: int)\n",
      " |\n",
      " |  save(self, j)\n",
      " |\n",
      " |  updatePi(self, api: dict, logpi, state: dict)\n",
      " |\n",
      " |  updateQ(self, states: dict, actions: dict, targets)\n",
      " |\n",
      " |  update_target_net(self)\n",
      " |\n",
      " |  ----------------------------------------------------------------------\n",
      " |  Data descriptors inherited from Tool:\n",
      " |\n",
      " |  __dict__\n",
      " |      dictionary for instance variables\n",
      " |\n",
      " |  __weakref__\n",
      " |      list of weak references to the object\n",
      "\n"
     ]
    }
   ],
   "source": [
    "help(Agent)"
   ]
  },
  {
   "cell_type": "code",
   "execution_count": 391,
   "id": "a66bc175-b68d-4f7e-aa68-32d61655142c",
   "metadata": {},
   "outputs": [],
   "source": [
    "agent = Agent(policy,q,q_target,buffer,lr_pi=lr_pi,lr_q=lr_q,epsilon=1.0,Na=len(ratios_type[0][\"bins\"])-1)"
   ]
  },
  {
   "cell_type": "code",
   "execution_count": 392,
   "id": "907b85cf-8e4d-4df4-b443-326e6196bbd5",
   "metadata": {},
   "outputs": [],
   "source": [
    "G = GoalGenerator(num_bank,ratios_type,H,agent)"
   ]
  },
  {
   "cell_type": "code",
   "execution_count": 393,
   "id": "806d4fb1-148d-4b2f-b30d-25c881b3f4a8",
   "metadata": {},
   "outputs": [
    {
     "data": {
      "text/plain": [
       "tensor([0.0496], grad_fn=<SumBackward1>)"
      ]
     },
     "execution_count": 393,
     "metadata": {},
     "output_type": "execute_result"
    }
   ],
   "source": [
    "G.agent.Qf_target(hist,[-1])"
   ]
  },
  {
   "cell_type": "code",
   "execution_count": 394,
   "id": "e482701b-b85b-4bbb-8f73-a9464716fbd8",
   "metadata": {},
   "outputs": [
    {
     "name": "stdout",
     "output_type": "stream",
     "text": [
      "<exploration.history.History object at 0x7cd10d41d5e0>\n",
      "<exploration.history.History object at 0x7cd10d41d5e0>\n"
     ]
    }
   ],
   "source": [
    "print(G.history)\n",
    "print(imgep.H)"
   ]
  },
  {
   "cell_type": "code",
   "execution_count": 395,
   "id": "6911b21e-3fb1-4f51-8390-6aee52141492",
   "metadata": {},
   "outputs": [],
   "source": [
    "feature = F.data2feature(H.memory_perf,ratios_type[0])\n",
    "hist,_ = np.histogram(feature,bins=ratios_type[0][\"bins\"])"
   ]
  },
  {
   "cell_type": "code",
   "execution_count": 396,
   "id": "97a08a52-c6ed-4e3d-b118-bb4a4448bf5f",
   "metadata": {},
   "outputs": [
    {
     "data": {
      "text/plain": [
       "10926"
      ]
     },
     "execution_count": 396,
     "metadata": {},
     "output_type": "execute_result"
    }
   ],
   "source": [
    "len(H.memory_perf[\"miss_ratios\"])"
   ]
  },
  {
   "cell_type": "code",
   "execution_count": 397,
   "id": "2d18d17b-091d-4cd3-859c-653b0b6519a0",
   "metadata": {},
   "outputs": [],
   "source": [
    "N_init = 100\n",
    "N = 200\n",
    "periode  =5\n",
    "max_len = 50\n",
    "num_banks = 4\n",
    "num_addr = 20\n",
    "mutation_rate = 0.1\n"
   ]
  },
  {
   "cell_type": "code",
   "execution_count": 398,
   "id": "3322825e-d1ee-4a3b-be12-f03ba3752fb8",
   "metadata": {},
   "outputs": [],
   "source": [
    "periode = config_data[\"periode\"]\n",
    "mutation_rate = config_data[\"mutation_rate\"]\n",
    "#N = config_data[\"N\"]\n",
    "N_init = config_data[\"N_init\"]\n",
    "num_bank = config_data[\"num_bank\"]\n",
    "max_len = config_data[\"max_len\"]\n",
    "min_len = config_data[\"min_len\"]\n",
    "folder = config_data[\"folder\"]\n",
    "num_addr = config_data[\"num_addr\"]\n",
    "num_iteration = config_data[\"num_iteration\"]"
   ]
  },
  {
   "cell_type": "code",
   "execution_count": 399,
   "id": "3277c5ef-28a1-4628-b4ab-1231fe7010cf",
   "metadata": {},
   "outputs": [],
   "source": [
    "En = Env(repetition=1,num_banks = num_bank,num_addr = num_addr)"
   ]
  },
  {
   "cell_type": "code",
   "execution_count": 400,
   "id": "baf61a12-7060-4ca3-bd4e-fedff7fd9b08",
   "metadata": {},
   "outputs": [],
   "source": [
    "k =2\n",
    "Pi = OptimizationPolicykNN(k=k,mutation_rate=mutation_rate,max_len=max_len,num_addr=num_addr,num_bank=num_bank,min_instr=min_len,max_instr=max_len)"
   ]
  },
  {
   "cell_type": "code",
   "execution_count": 401,
   "id": "12dcecc3-ab64-4fd4-8a7f-ef3766ff3081",
   "metadata": {},
   "outputs": [],
   "source": [
    "ir = IR(En,ratios_type,H, G,Pi,num_iteration,window = 5)"
   ]
  },
  {
   "cell_type": "code",
   "execution_count": 402,
   "id": "8c5644fb-f4e9-4d37-a34b-06b771a60502",
   "metadata": {},
   "outputs": [],
   "source": [
    "imgep = IMGEP(N,N_init, En,H,G,Pi,ir=ir, modules = ratios_type, periode = periode, max_len = max_len)"
   ]
  },
  {
   "cell_type": "code",
   "execution_count": 403,
   "id": "c879fcac-60de-4159-9365-21a3d4340fe5",
   "metadata": {},
   "outputs": [
    {
     "name": "stdout",
     "output_type": "stream",
     "text": [
      "0 iterations\n",
      "100 iterations\n",
      "i 100 module type miss_ratios diversity 34\n",
      "i 101 module type miss_ratios diversity 34\n",
      "action 50\n",
      "i 101 module update miss_ratios diversity 34\n",
      "i 102 module type miss_ratios diversity 34\n",
      "action 71\n",
      "i 102 module update miss_ratios diversity 34\n",
      "i 103 module type miss_ratios diversity 34\n",
      "action 17\n",
      "i 103 module update miss_ratios diversity 34\n",
      "i 104 module type miss_ratios diversity 34\n",
      "action 58\n",
      "i 104 module update miss_ratios diversity 34\n",
      "i 105 module type miss_ratios diversity 34\n",
      "action 98\n",
      "i 105 module update miss_ratios diversity 34\n",
      "i 106 module type miss_ratios diversity 34\n",
      "action 44\n",
      "i 106 module update miss_ratios diversity 34\n",
      "i 107 module type miss_ratios diversity 34\n",
      "action 25\n",
      "i 107 module update miss_ratios diversity 34\n",
      "i 108 module type miss_ratios diversity 34\n",
      "action 31\n",
      "i 108 module update miss_ratios diversity 34\n",
      "i 109 module type miss_ratios diversity 34\n",
      "action 63\n",
      "i 109 module update miss_ratios diversity 34\n",
      "i 110 module type miss_ratios_detailled diversity 34\n",
      "action 55\n",
      "i 110 module update miss_ratios_detailled diversity 34\n",
      "i 111 module type miss_ratios_detailled diversity 34\n",
      "action 37\n",
      "i 111 module update miss_ratios_detailled diversity 34\n",
      "i 112 module type miss_ratios_detailled diversity 34\n",
      "action 9\n",
      "i 112 module update miss_ratios_detailled diversity 34\n",
      "i 113 module type miss_ratios_detailled diversity 34\n",
      "action 27\n",
      "i 113 module update miss_ratios_detailled diversity 34\n",
      "i 114 module type miss_ratios_detailled diversity 34\n",
      "action 95\n",
      "i 114 module update miss_ratios_detailled diversity 34\n",
      "i 115 module type miss_ratios diversity 34\n",
      "action 2\n",
      "i 115 module update miss_ratios diversity 34\n",
      "i 116 module type miss_ratios diversity 34\n",
      "action 79\n",
      "i 116 module update miss_ratios diversity 34\n",
      "i 117 module type miss_ratios diversity 34\n",
      "action 35\n",
      "i 117 module update miss_ratios diversity 34\n",
      "i 118 module type miss_ratios diversity 34\n",
      "action 98\n",
      "i 118 module update miss_ratios diversity 34\n",
      "i 119 module type miss_ratios diversity 34\n",
      "action 98\n",
      "i 119 module update miss_ratios diversity 34\n",
      "i 120 module type miss_ratios diversity 34\n",
      "action 13\n",
      "i 120 module update miss_ratios diversity 34\n",
      "i 121 module type miss_ratios diversity 34\n",
      "action 23\n",
      "i 121 module update miss_ratios diversity 34\n",
      "i 122 module type miss_ratios diversity 34\n",
      "action 24\n",
      "i 122 module update miss_ratios diversity 34\n",
      "i 123 module type miss_ratios diversity 34\n",
      "action 16\n",
      "i 123 module update miss_ratios diversity 34\n",
      "i 124 module type miss_ratios diversity 34\n",
      "action 56\n",
      "i 124 module update miss_ratios diversity 34\n",
      "i 125 module type miss_ratios_detailled diversity 34\n",
      "action 46\n",
      "i 125 module update miss_ratios_detailled diversity 34\n",
      "i 126 module type miss_ratios_detailled diversity 34\n",
      "action 39\n",
      "i 126 module update miss_ratios_detailled diversity 34\n",
      "i 127 module type miss_ratios_detailled diversity 34\n",
      "action 88\n",
      "i 127 module update miss_ratios_detailled diversity 34\n",
      "i 128 module type miss_ratios_detailled diversity 34\n",
      "action 36\n",
      "i 128 module update miss_ratios_detailled diversity 34\n",
      "i 129 module type miss_ratios_detailled diversity 34\n",
      "action 37\n",
      "i 129 module update miss_ratios_detailled diversity 34\n",
      "i 130 module type miss_ratios_detailled diversity 34\n",
      "action 34\n",
      "i 130 module update miss_ratios_detailled diversity 34\n",
      "i 131 module type miss_ratios_detailled diversity 34\n",
      "action 72\n",
      "i 131 module update miss_ratios_detailled diversity 34\n",
      "i 132 module type miss_ratios_detailled diversity 34\n",
      "action 56\n",
      "i 132 module update miss_ratios_detailled diversity 34\n",
      "i 133 module type miss_ratios_detailled diversity 34\n",
      "action 96\n",
      "i 133 module update miss_ratios_detailled diversity 34\n",
      "i 134 module type miss_ratios_detailled diversity 34\n",
      "action 76\n",
      "i 134 module update miss_ratios_detailled diversity 34\n",
      "i 135 module type miss_ratios_detailled diversity 34\n",
      "action 88\n",
      "i 135 module update miss_ratios_detailled diversity 34\n",
      "i 136 module type miss_ratios_detailled diversity 34\n",
      "action 63\n",
      "i 136 module update miss_ratios_detailled diversity 34\n",
      "i 137 module type miss_ratios_detailled diversity 34\n",
      "action 21\n",
      "i 137 module update miss_ratios_detailled diversity 34\n",
      "i 138 module type miss_ratios_detailled diversity 34\n",
      "action 72\n",
      "i 138 module update miss_ratios_detailled diversity 34\n",
      "i 139 module type miss_ratios_detailled diversity 34\n",
      "action 95\n",
      "i 139 module update miss_ratios_detailled diversity 34\n",
      "i 140 module type miss_ratios_detailled diversity 34\n",
      "action 76\n",
      "i 140 module update miss_ratios_detailled diversity 34\n",
      "i 141 module type miss_ratios_detailled diversity 34\n",
      "action 27\n",
      "i 141 module update miss_ratios_detailled diversity 34\n",
      "i 142 module type miss_ratios_detailled diversity 34\n",
      "action 46\n",
      "i 142 module update miss_ratios_detailled diversity 34\n",
      "i 143 module type miss_ratios_detailled diversity 34\n",
      "action 24\n",
      "i 143 module update miss_ratios_detailled diversity 34\n",
      "i 144 module type miss_ratios_detailled diversity 34\n",
      "action 85\n",
      "i 144 module update miss_ratios_detailled diversity 34\n",
      "i 145 module type miss_ratios_detailled diversity 34\n",
      "action 59\n",
      "i 145 module update miss_ratios_detailled diversity 34\n",
      "i 146 module type miss_ratios_detailled diversity 34\n",
      "action 48\n",
      "i 146 module update miss_ratios_detailled diversity 34\n",
      "i 147 module type miss_ratios_detailled diversity 34\n",
      "action 74\n",
      "i 147 module update miss_ratios_detailled diversity 34\n",
      "i 148 module type miss_ratios_detailled diversity 34\n",
      "action 23\n",
      "i 148 module update miss_ratios_detailled diversity 34\n",
      "i 149 module type miss_ratios_detailled diversity 34\n",
      "action 88\n",
      "i 149 module update miss_ratios_detailled diversity 34\n",
      "i 150 module type miss_ratios_detailled diversity 34\n",
      "action 44\n",
      "i 150 module update miss_ratios_detailled diversity 34\n",
      "i 151 module type miss_ratios_detailled diversity 34\n",
      "action 92\n",
      "i 151 module update miss_ratios_detailled diversity 34\n",
      "i 152 module type miss_ratios_detailled diversity 34\n",
      "action 35\n",
      "i 152 module update miss_ratios_detailled diversity 34\n",
      "i 153 module type miss_ratios_detailled diversity 34\n",
      "action 31\n",
      "i 153 module update miss_ratios_detailled diversity 34\n",
      "i 154 module type miss_ratios_detailled diversity 34\n",
      "action 19\n",
      "i 154 module update miss_ratios_detailled diversity 34\n",
      "i 155 module type miss_ratios_detailled diversity 34\n",
      "action 84\n",
      "i 155 module update miss_ratios_detailled diversity 34\n",
      "i 156 module type miss_ratios_detailled diversity 34\n",
      "action 94\n",
      "i 156 module update miss_ratios_detailled diversity 34\n",
      "i 157 module type miss_ratios_detailled diversity 34\n",
      "action 97\n",
      "i 157 module update miss_ratios_detailled diversity 34\n",
      "i 158 module type miss_ratios_detailled diversity 34\n",
      "action 44\n",
      "i 158 module update miss_ratios_detailled diversity 34\n",
      "i 159 module type miss_ratios_detailled diversity 34\n",
      "action 89\n",
      "i 159 module update miss_ratios_detailled diversity 34\n",
      "i 160 module type miss_ratios_detailled diversity 34\n",
      "action 3\n",
      "i 160 module update miss_ratios_detailled diversity 34\n",
      "i 161 module type miss_ratios_detailled diversity 34\n",
      "action 76\n",
      "i 161 module update miss_ratios_detailled diversity 34\n",
      "i 162 module type miss_ratios_detailled diversity 34\n",
      "action 76\n",
      "i 162 module update miss_ratios_detailled diversity 34\n",
      "i 163 module type miss_ratios_detailled diversity 34\n",
      "action 18\n",
      "i 163 module update miss_ratios_detailled diversity 34\n",
      "i 164 module type miss_ratios_detailled diversity 34\n",
      "action 41\n",
      "i 164 module update miss_ratios_detailled diversity 34\n",
      "i 165 module type miss_ratios diversity 34\n",
      "action 56\n",
      "i 165 module update miss_ratios diversity 34\n",
      "i 166 module type miss_ratios diversity 34\n",
      "action 46\n",
      "i 166 module update miss_ratios diversity 34\n",
      "i 167 module type miss_ratios diversity 34\n",
      "action 55\n",
      "i 167 module update miss_ratios diversity 34\n"
     ]
    },
    {
     "ename": "KeyboardInterrupt",
     "evalue": "",
     "output_type": "error",
     "traceback": [
      "\u001b[0;31m---------------------------------------------------------------------------\u001b[0m",
      "\u001b[0;31mKeyboardInterrupt\u001b[0m                         Traceback (most recent call last)",
      "Cell \u001b[0;32mIn[403], line 1\u001b[0m\n\u001b[0;32m----> 1\u001b[0m \u001b[43mimgep\u001b[49m\u001b[43m(\u001b[49m\u001b[43mintr_reward\u001b[49m\u001b[38;5;241;43m=\u001b[39;49m\u001b[38;5;28;43;01mFalse\u001b[39;49;00m\u001b[43m)\u001b[49m\n",
      "Cell \u001b[0;32mIn[386], line 49\u001b[0m, in \u001b[0;36mIMGEP.__call__\u001b[0;34m(self, intr_reward)\u001b[0m\n\u001b[1;32m     47\u001b[0m \u001b[38;5;28;01mif\u001b[39;00m (i\u001b[38;5;241m-\u001b[39m\u001b[38;5;28mself\u001b[39m\u001b[38;5;241m.\u001b[39mN_init)\u001b[38;5;241m>\u001b[39m\u001b[38;5;241m=\u001b[39m\u001b[38;5;241m1\u001b[39m:\n\u001b[1;32m     48\u001b[0m     previous_module \u001b[38;5;241m=\u001b[39m module\n\u001b[0;32m---> 49\u001b[0m goal \u001b[38;5;241m=\u001b[39m \u001b[38;5;28;43mself\u001b[39;49m\u001b[38;5;241;43m.\u001b[39;49m\u001b[43mG\u001b[49m\u001b[43m(\u001b[49m\u001b[38;5;28;43mself\u001b[39;49m\u001b[38;5;241;43m.\u001b[39;49m\u001b[43mH\u001b[49m\u001b[43m,\u001b[49m\u001b[43m \u001b[49m\u001b[43mmodule\u001b[49m\u001b[43m \u001b[49m\u001b[38;5;241;43m=\u001b[39;49m\u001b[43m \u001b[49m\u001b[43mmodule\u001b[49m\u001b[43m)\u001b[49m\n\u001b[1;32m     50\u001b[0m \u001b[38;5;28mprint\u001b[39m(\u001b[38;5;124m\"\u001b[39m\u001b[38;5;124mi\u001b[39m\u001b[38;5;124m\"\u001b[39m,i,\u001b[38;5;124m\"\u001b[39m\u001b[38;5;124mmodule type\u001b[39m\u001b[38;5;124m\"\u001b[39m,module[\u001b[38;5;124m\"\u001b[39m\u001b[38;5;124mtype\u001b[39m\u001b[38;5;124m\"\u001b[39m],\u001b[38;5;124m\"\u001b[39m\u001b[38;5;124mdiversity\u001b[39m\u001b[38;5;124m\"\u001b[39m,np\u001b[38;5;241m.\u001b[39msum(\u001b[38;5;28mself\u001b[39m\u001b[38;5;241m.\u001b[39mG\u001b[38;5;241m.\u001b[39mdiversity_representation(module)\u001b[38;5;241m>\u001b[39m\u001b[38;5;241m0\u001b[39m))\n\u001b[1;32m     51\u001b[0m     \u001b[38;5;66;03m#print(\"nb elements\", len(self.H.memory_perf[\"miss_ratios\"]))\u001b[39;00m\n",
      "Cell \u001b[0;32mIn[359], line 36\u001b[0m, in \u001b[0;36mGoalGenerator.__call__\u001b[0;34m(self, H, module)\u001b[0m\n\u001b[1;32m     34\u001b[0m module[\u001b[38;5;124m\"\u001b[39m\u001b[38;5;124mstate\u001b[39m\u001b[38;5;124m\"\u001b[39m] \u001b[38;5;241m=\u001b[39m state\n\u001b[1;32m     35\u001b[0m \u001b[38;5;28;01mfor\u001b[39;00m m \u001b[38;5;129;01min\u001b[39;00m \u001b[38;5;28mself\u001b[39m\u001b[38;5;241m.\u001b[39mmodules:\n\u001b[0;32m---> 36\u001b[0m     m[\u001b[38;5;124m\"\u001b[39m\u001b[38;5;124mdiv_goal\u001b[39m\u001b[38;5;124m\"\u001b[39m] \u001b[38;5;241m=\u001b[39m np\u001b[38;5;241m.\u001b[39msum(\u001b[38;5;28;43mself\u001b[39;49m\u001b[38;5;241;43m.\u001b[39;49m\u001b[43mdiversity_representation\u001b[49m\u001b[43m(\u001b[49m\u001b[43mmodule\u001b[49m\u001b[43m)\u001b[49m\u001b[38;5;241m>\u001b[39m\u001b[38;5;241m0\u001b[39m)\n\u001b[1;32m     37\u001b[0m \u001b[38;5;28;01mif\u001b[39;00m \u001b[38;5;28;01mFalse\u001b[39;00m:\n\u001b[1;32m     38\u001b[0m     out \u001b[38;5;241m=\u001b[39m \u001b[38;5;28mself\u001b[39m\u001b[38;5;241m.\u001b[39mrand(stat)\n",
      "Cell \u001b[0;32mIn[359], line 24\u001b[0m, in \u001b[0;36mGoalGenerator.diversity_representation\u001b[0;34m(self, module)\u001b[0m\n\u001b[1;32m     23\u001b[0m \u001b[38;5;28;01mdef\u001b[39;00m \u001b[38;5;21mdiversity_representation\u001b[39m(\u001b[38;5;28mself\u001b[39m,module:\u001b[38;5;28mdict\u001b[39m):\n\u001b[0;32m---> 24\u001b[0m     feature \u001b[38;5;241m=\u001b[39m \u001b[38;5;28;43mself\u001b[39;49m\u001b[38;5;241;43m.\u001b[39;49m\u001b[43mdata2feature\u001b[49m\u001b[43m(\u001b[49m\u001b[38;5;28;43mself\u001b[39;49m\u001b[38;5;241;43m.\u001b[39;49m\u001b[43mhistory\u001b[49m\u001b[38;5;241;43m.\u001b[39;49m\u001b[43mmemory_perf\u001b[49m\u001b[43m,\u001b[49m\u001b[43mm\u001b[49m\u001b[43m)\u001b[49m\n\u001b[1;32m     25\u001b[0m     hist,_ \u001b[38;5;241m=\u001b[39m np\u001b[38;5;241m.\u001b[39mhistogram(feature,bins\u001b[38;5;241m=\u001b[39mm[\u001b[38;5;124m\"\u001b[39m\u001b[38;5;124mbins\u001b[39m\u001b[38;5;124m\"\u001b[39m])\n\u001b[1;32m     26\u001b[0m     \u001b[38;5;28;01mreturn\u001b[39;00m hist\n",
      "File \u001b[0;32m~/Documents/SImu2/exploration/imgep/features.py:65\u001b[0m, in \u001b[0;36mFeatures.data2feature\u001b[0;34m(self, stats, module)\u001b[0m\n\u001b[1;32m     63\u001b[0m row \u001b[38;5;241m=\u001b[39m module[\u001b[38;5;124m\"\u001b[39m\u001b[38;5;124mrow\u001b[39m\u001b[38;5;124m\"\u001b[39m]\n\u001b[1;32m     64\u001b[0m \u001b[38;5;28;01mif\u001b[39;00m core\u001b[38;5;241m!=\u001b[39m\u001b[38;5;28;01mNone\u001b[39;00m:\n\u001b[0;32m---> 65\u001b[0m     out \u001b[38;5;241m=\u001b[39m \u001b[43mnp\u001b[49m\u001b[38;5;241;43m.\u001b[39;49m\u001b[43marray\u001b[49m\u001b[43m(\u001b[49m\u001b[43mstats\u001b[49m\u001b[43m[\u001b[49m\u001b[38;5;124;43mf\u001b[39;49m\u001b[38;5;124;43m\"\u001b[39;49m\u001b[38;5;124;43mmiss_ratios_core\u001b[39;49m\u001b[38;5;132;43;01m{\u001b[39;49;00m\u001b[43mcore\u001b[49m\u001b[38;5;132;43;01m}\u001b[39;49;00m\u001b[38;5;124;43m_detailled\u001b[39;49m\u001b[38;5;124;43m\"\u001b[39;49m\u001b[43m]\u001b[49m\u001b[43m)\u001b[49m[:,row,bank]\n\u001b[1;32m     66\u001b[0m \u001b[38;5;28;01melse\u001b[39;00m:\n\u001b[1;32m     67\u001b[0m     out \u001b[38;5;241m=\u001b[39m np\u001b[38;5;241m.\u001b[39marray(stats[\u001b[38;5;124mf\u001b[39m\u001b[38;5;124m\"\u001b[39m\u001b[38;5;124mmiss_ratios_detailled\u001b[39m\u001b[38;5;124m\"\u001b[39m])[:,row,bank]\n",
      "\u001b[0;31mKeyboardInterrupt\u001b[0m: "
     ]
    }
   ],
   "source": [
    "imgep(intr_reward=False)"
   ]
  },
  {
   "cell_type": "code",
   "execution_count": null,
   "id": "d35e6ed9-ab2c-4c30-a4de-996dbc6a21f5",
   "metadata": {},
   "outputs": [],
   "source": []
  },
  {
   "cell_type": "code",
   "execution_count": 358,
   "id": "bee3dff3-02b2-4ded-9bc3-e17124fa3d3a",
   "metadata": {},
   "outputs": [
    {
     "name": "stdout",
     "output_type": "stream",
     "text": [
      "mkdir: impossible de créer le répertoire «loadpath»: Le fichier existe\n",
      "mkdir: impossible de créer le répertoire «optpath»: Le fichier existe\n"
     ]
    }
   ],
   "source": [
    "mkdir loadpath optpath"
   ]
  },
  {
   "cell_type": "code",
   "execution_count": null,
   "id": "d682d920-84e3-4e36-b516-b1547260a081",
   "metadata": {},
   "outputs": [],
   "source": [
    "torch.nn.functional"
   ]
  },
  {
   "cell_type": "code",
   "execution_count": null,
   "id": "73c218b3-6438-46e7-a73e-3acd843c6d3a",
   "metadata": {},
   "outputs": [],
   "source": [
    "G(H,ratios_type[3])\n",
    "\n"
   ]
  },
  {
   "cell_type": "code",
   "execution_count": 177,
   "id": "b1c3db86-4c3d-43e9-adf3-4b4168c19a0c",
   "metadata": {},
   "outputs": [
    {
     "data": {
      "text/plain": [
       "(4, 8108)"
      ]
     },
     "execution_count": 177,
     "metadata": {},
     "output_type": "execute_result"
    }
   ],
   "source": [
    "F.data2feature(H.memory_perf,modules[0]).shape"
   ]
  },
  {
   "cell_type": "code",
   "execution_count": 178,
   "id": "74f75095-8551-4959-94e8-49452b74a467",
   "metadata": {},
   "outputs": [
    {
     "data": {
      "text/plain": [
       "dict_keys(['miss_ratios', 'miss_ratios_global', 'miss_ratios_global0', 'miss_ratios_global1', 'miss_ratios_core0', 'miss_ratios_core1', 'time_core0_together', 'time_core1_together', 'time_core0_alone', 'time_core1_alone', 'miss_count', 'miss_count_core0', 'miss_count_core1', 'diff_ratios_core0', 'diff_ratios_core1', 'diff_time0', 'diff_time1', 'miss_ratios_detailled', 'miss_ratios_core0_detailled', 'miss_ratios_core1_detailled'])"
      ]
     },
     "execution_count": 178,
     "metadata": {},
     "output_type": "execute_result"
    }
   ],
   "source": [
    "content.keys()"
   ]
  },
  {
   "cell_type": "code",
   "execution_count": 179,
   "id": "45cf0120-d69b-491f-bd3e-99dbb8a0c19e",
   "metadata": {},
   "outputs": [],
   "source": [
    "import matplotlib.pyplot as plt"
   ]
  },
  {
   "cell_type": "code",
   "execution_count": 273,
   "id": "34266df0-3b05-42d2-b6c2-ac3427e9b35e",
   "metadata": {},
   "outputs": [
    {
     "data": {
      "text/plain": [
       "(10000, 2, 4)"
      ]
     },
     "execution_count": 273,
     "metadata": {},
     "output_type": "execute_result"
    }
   ],
   "source": [
    "content[\"miss_ratios_core0_detailled\"].shape"
   ]
  },
  {
   "cell_type": "code",
   "execution_count": 366,
   "id": "a550b465-a478-45b8-9dcf-7e1047fb9bff",
   "metadata": {},
   "outputs": [
    {
     "data": {
      "text/plain": [
       "{'miss_ratios': array([[0.5       , 0.        , 1.        , 1.        ],\n",
       "        [0.        , 1.        , 0.25      , 0.5       ],\n",
       "        [0.66666667, 1.        , 0.33333333, 0.33333333],\n",
       "        ...,\n",
       "        [0.25      , 0.66666667, 0.66666667, 0.33333333],\n",
       "        [0.        , 1.        , 1.        , 0.        ],\n",
       "        [0.5       , 0.5       , 0.53333333, 1.        ]]),\n",
       " 'miss_ratios_global': array([0.8       , 0.42857143, 0.54545455, ..., 0.52631579, 1.        ,\n",
       "        0.54545455]),\n",
       " 'miss_ratios_global0': array([1.        , 0.4       , 1.        , ..., 0.4       , 1.        ,\n",
       "        0.36363636]),\n",
       " 'miss_ratios_global1': array([1.        , 1.        , 0.625     , ..., 0.33333333, 1.        ,\n",
       "        0.81818182]),\n",
       " 'miss_ratios_core0': array([[1.        , 0.        , 1.        , 1.        ],\n",
       "        [0.        , 0.        , 0.33333333, 0.5       ],\n",
       "        [1.        , 1.        , 0.        , 1.        ],\n",
       "        ...,\n",
       "        [0.25      , 1.        , 0.5       , 0.33333333],\n",
       "        [0.        , 0.        , 1.        , 0.        ],\n",
       "        [0.5       , 1.        , 0.25      , 0.        ]]),\n",
       " 'miss_ratios_core1': array([[1.        , 0.        , 1.        , 0.        ],\n",
       "        [0.        , 1.        , 1.        , 0.        ],\n",
       "        [1.        , 1.        , 0.33333333, 0.5       ],\n",
       "        ...,\n",
       "        [0.        , 0.5       , 0.28571429, 0.        ],\n",
       "        [0.        , 1.        , 1.        , 0.        ],\n",
       "        [1.        , 1.        , 0.71428571, 1.        ]]),\n",
       " 'time_core0_together': array([ 69.,  87.,  77., ..., 153.,  67., 346.]),\n",
       " 'time_core1_together': array([ 90.,  75., 112., ..., 262.,  78., 304.]),\n",
       " 'time_core0_alone': array([ 70.,  87.,  78., ..., 151.,  65., 163.]),\n",
       " 'time_core1_alone': array([ 71.,  76.,  95., ..., 182.,  77., 255.]),\n",
       " 'miss_count': array([[1., 0., 2., 1.],\n",
       "        [0., 1., 1., 1.],\n",
       "        [2., 2., 1., 1.],\n",
       "        ...,\n",
       "        [1., 2., 6., 1.],\n",
       "        [0., 2., 2., 0.],\n",
       "        [2., 1., 8., 1.]]),\n",
       " 'miss_count_core0': array([[1., 0., 1., 1.],\n",
       "        [0., 0., 1., 1.],\n",
       "        [1., 1., 0., 1.],\n",
       "        ...,\n",
       "        [1., 1., 1., 1.],\n",
       "        [0., 0., 1., 0.],\n",
       "        [1., 1., 2., 0.]]),\n",
       " 'miss_count_core1': array([[1., 0., 1., 0.],\n",
       "        [0., 1., 1., 0.],\n",
       "        [2., 1., 1., 1.],\n",
       "        ...,\n",
       "        [0., 1., 2., 0.],\n",
       "        [0., 2., 1., 0.],\n",
       "        [2., 1., 5., 1.]]),\n",
       " 'diff_ratios_core0': array([[0.5       , 0.        , 0.        , 0.        ],\n",
       "        [0.        , 1.        , 0.08333333, 0.        ],\n",
       "        [0.33333333, 0.        , 0.33333333, 0.66666667],\n",
       "        ...,\n",
       "        [0.        , 0.33333333, 0.16666667, 0.        ],\n",
       "        [0.        , 1.        , 0.        , 0.        ],\n",
       "        [0.        , 0.5       , 0.28333333, 1.        ]]),\n",
       " 'diff_ratios_core1': array([[0.5       , 0.        , 0.        , 1.        ],\n",
       "        [0.        , 0.        , 0.75      , 0.5       ],\n",
       "        [0.33333333, 0.        , 0.        , 0.16666667],\n",
       "        ...,\n",
       "        [0.25      , 0.16666667, 0.38095238, 0.33333333],\n",
       "        [0.        , 0.        , 0.        , 0.        ],\n",
       "        [0.5       , 0.5       , 0.18095238, 0.        ]]),\n",
       " 'diff_time0': array([  1.,   0.,   1., ...,   2.,   2., 183.]),\n",
       " 'diff_time1': array([19.,  1., 17., ..., 80.,  1., 49.]),\n",
       " 'miss_ratios_detailled': array([[[0.        , 0.        , 1.        , 1.        ],\n",
       "         [0.5       , 0.        , 1.        , 0.        ]],\n",
       " \n",
       "        [[0.        , 1.        , 0.25      , 0.5       ],\n",
       "         [0.        , 0.        , 0.        , 0.        ]],\n",
       " \n",
       "        [[0.5       , 1.        , 0.33333333, 0.33333333],\n",
       "         [1.        , 1.        , 0.        , 0.        ]],\n",
       " \n",
       "        ...,\n",
       " \n",
       "        [[0.25      , 0.5       , 1.        , 0.33333333],\n",
       "         [0.        , 1.        , 0.5       , 0.        ]],\n",
       " \n",
       "        [[0.        , 1.        , 1.        , 0.        ],\n",
       "         [0.        , 1.        , 1.        , 0.        ]],\n",
       " \n",
       "        [[0.33333333, 0.5       , 0.57142857, 0.        ],\n",
       "         [1.        , 0.        , 0.5       , 1.        ]]]),\n",
       " 'miss_ratios_core0_detailled': array([[[0.        , 0.        , 1.        , 1.        ],\n",
       "         [1.        , 0.        , 0.        , 0.        ]],\n",
       " \n",
       "        [[0.        , 0.        , 0.33333333, 0.5       ],\n",
       "         [0.        , 0.        , 0.        , 0.        ]],\n",
       " \n",
       "        [[1.        , 1.        , 0.        , 1.        ],\n",
       "         [0.        , 0.        , 0.        , 0.        ]],\n",
       " \n",
       "        ...,\n",
       " \n",
       "        [[0.25      , 0.        , 0.5       , 0.33333333],\n",
       "         [0.        , 1.        , 0.        , 0.        ]],\n",
       " \n",
       "        [[0.        , 0.        , 1.        , 0.        ],\n",
       "         [0.        , 0.        , 0.        , 0.        ]],\n",
       " \n",
       "        [[0.5       , 1.        , 0.33333333, 0.        ],\n",
       "         [0.        , 0.        , 0.2       , 0.        ]]]),\n",
       " 'miss_ratios_core1_detailled': array([[[0.        , 0.        , 0.        , 0.        ],\n",
       "         [1.        , 0.        , 1.        , 0.        ]],\n",
       " \n",
       "        [[0.        , 1.        , 1.        , 0.        ],\n",
       "         [0.        , 0.        , 0.        , 0.        ]],\n",
       " \n",
       "        [[1.        , 0.        , 0.33333333, 0.5       ],\n",
       "         [1.        , 1.        , 0.        , 0.        ]],\n",
       " \n",
       "        ...,\n",
       " \n",
       "        [[0.        , 0.5       , 1.        , 0.        ],\n",
       "         [0.        , 0.        , 0.16666667, 0.        ]],\n",
       " \n",
       "        [[0.        , 1.        , 0.        , 0.        ],\n",
       "         [0.        , 1.        , 1.        , 0.        ]],\n",
       " \n",
       "        [[1.        , 1.        , 0.5       , 0.        ],\n",
       "         [1.        , 0.        , 1.        , 1.        ]]])}"
      ]
     },
     "execution_count": 366,
     "metadata": {},
     "output_type": "execute_result"
    }
   ],
   "source": [
    "content"
   ]
  },
  {
   "cell_type": "code",
   "execution_count": 364,
   "id": "e463cb37-c3d8-40c0-a85b-fad2328d82cc",
   "metadata": {},
   "outputs": [],
   "source": [
    "bank = 3\n",
    "row = 1"
   ]
  },
  {
   "cell_type": "code",
   "execution_count": 365,
   "id": "22a5835f-1c70-41fa-bd8e-f7dd693a312f",
   "metadata": {},
   "outputs": [
    {
     "data": {
      "text/plain": [
       "<matplotlib.collections.PathCollection at 0x7cd0b3393f50>"
      ]
     },
     "execution_count": 365,
     "metadata": {},
     "output_type": "execute_result"
    },
    {
     "data": {
      "image/png": "[encoded data removed]",
      "text/plain": [
       "<Figure size 640x480 with 1 Axes>"
      ]
     },
     "metadata": {},
     "output_type": "display_data"
    }
   ],
   "source": [
    "plt.scatter(content[\"miss_ratios_core0_detailled\"][:,row,bank],content[\"miss_ratios_detailled\"][:,row,bank])"
   ]
  },
  {
   "cell_type": "code",
   "execution_count": 379,
   "id": "0e12eb46-d604-4da1-a113-152fcc34c9d0",
   "metadata": {},
   "outputs": [],
   "source": [
    "F = Features()"
   ]
  },
  {
   "cell_type": "code",
   "execution_count": 380,
   "id": "2e201136-3317-499b-80f4-fb4ff97e6087",
   "metadata": {},
   "outputs": [
    {
     "ename": "TypeError",
     "evalue": "GoalGenerator.__init__() missing 4 required positional arguments: 'num_bank', 'modules', 'H', and 'agent'",
     "output_type": "error",
     "traceback": [
      "\u001b[0;31m---------------------------------------------------------------------------\u001b[0m",
      "\u001b[0;31mTypeError\u001b[0m                                 Traceback (most recent call last)",
      "Cell \u001b[0;32mIn[380], line 1\u001b[0m\n\u001b[0;32m----> 1\u001b[0m G \u001b[38;5;241m=\u001b[39m \u001b[43mGoalGenerator\u001b[49m\u001b[43m(\u001b[49m\u001b[43m)\u001b[49m\n",
      "\u001b[0;31mTypeError\u001b[0m: GoalGenerator.__init__() missing 4 required positional arguments: 'num_bank', 'modules', 'H', and 'agent'"
     ]
    }
   ],
   "source": [
    "G = GoalGenerator()"
   ]
  },
  {
   "cell_type": "code",
   "execution_count": null,
   "id": "74ccebe2-b39e-493b-b240-9d0c1a3d6f0a",
   "metadata": {},
   "outputs": [],
   "source": []
  }
 ],
 "metadata": {
  "kernelspec": {
   "display_name": "Python 3 (ipykernel)",
   "language": "python",
   "name": "python3"
  },
  "language_info": {
   "codemirror_mode": {
    "name": "ipython",
    "version": 3
   },
   "file_extension": ".py",
   "mimetype": "text/x-python",
   "name": "python",
   "nbconvert_exporter": "python",
   "pygments_lexer": "ipython3",
   "version": "3.12.3"
  }
 },
 "nbformat": 4,
 "nbformat_minor": 5
}
