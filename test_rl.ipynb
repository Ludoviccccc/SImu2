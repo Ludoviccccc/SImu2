{
 "cells": [
  {
   "cell_type": "code",
   "execution_count": 1,
   "id": "9912ecbf-c028-47a9-9a0c-2dcd7716becc",
   "metadata": {},
   "outputs": [],
   "source": [
    "N = 10000\n",
    "N_init = 1000\n",
    "pwd = 'all_images/image_short'\n",
    "pwd_data = 'all_data/data_short'"
   ]
  },
  {
   "cell_type": "code",
   "execution_count": 2,
   "id": "90885f1d-b515-4607-95ef-345e48b03855",
   "metadata": {},
   "outputs": [],
   "source": [
    "import os\n",
    "import json\n",
    "import pickle\n",
    "import random\n",
    "from sim.sim_use import make_random_paire_list_instr\n",
    "from exploration.history import History\n",
    "from exploration.imgep.features import Features\n",
    "import numpy as np\n",
    "from exploration.env.func import Env\n",
    "from  exploration.imgep.OptimizationPolicy import OptimizationPolicykNN\n",
    "from exploration.imgep.intrinsic_reward import IR"
   ]
  },
  {
   "cell_type": "code",
   "execution_count": 3,
   "id": "013ea3c9-0011-4671-8bdf-90cdde5765b2",
   "metadata": {
    "jupyter": {
     "source_hidden": true
    }
   },
   "outputs": [],
   "source": [
    "with open(os.path.join(pwd,'config_plots.json'),'rb') as f:\n",
    "    config = json.load(f)"
   ]
  },
  {
   "cell_type": "code",
   "execution_count": 4,
   "id": "397c8adf-615a-45a9-bb8c-9caf735fbd9b",
   "metadata": {
    "jupyter": {
     "source_hidden": true
    }
   },
   "outputs": [],
   "source": [
    "with open(os.path.join(pwd_data,'modules.json'),'rb') as f:\n",
    "    modules_dict = json.load(f)\n",
    "modules = modules_dict[\"modules\"]"
   ]
  },
  {
   "cell_type": "code",
   "execution_count": 5,
   "id": "52bc5399-3ab5-44f4-8aa9-bc46e469cb9c",
   "metadata": {
    "jupyter": {
     "source_hidden": true
    }
   },
   "outputs": [],
   "source": [
    "with open(os.path.join(pwd_data,'config.json'),'rb') as f:\n",
    "    config_data = json.load(f)"
   ]
  },
  {
   "cell_type": "code",
   "execution_count": 6,
   "id": "80b98717-e609-4abb-aeba-aa73694dcf75",
   "metadata": {
    "jupyter": {
     "source_hidden": true
    }
   },
   "outputs": [],
   "source": [
    "H = History(N)"
   ]
  },
  {
   "cell_type": "code",
   "execution_count": 7,
   "id": "789fc688-e751-4de9-a443-5b5c100bb3e2",
   "metadata": {
    "jupyter": {
     "source_hidden": true
    }
   },
   "outputs": [
    {
     "data": {
      "text/plain": [
       "{'files': [{'folder': 'all_data/data_short',\n",
       "   'file': 'history_kNN_2_N_10000_lp_0.pkl',\n",
       "   'name': 'imgep_ir k=2,N=10000',\n",
       "   'k': 2,\n",
       "   'N': 10000,\n",
       "   'type': 'imgep_ir'},\n",
       "  {'folder': 'all_data/data_short',\n",
       "   'file': 'history_kNN_2_N_10000_no_lp_0.pkl',\n",
       "   'name': 'imgep_no_ir k=2,N=10000',\n",
       "   'k': 2,\n",
       "   'N': 10000,\n",
       "   'type': 'imgep_no_ir'}],\n",
       " 'N_init': 1000,\n",
       " 'N': 10000,\n",
       " 'image_folder': 'all_images/image_short',\n",
       " 'random': {'folder': 'all_data/data_short',\n",
       "  'N': 10000,\n",
       "  'file': 'history_rand_N_10000_0.pkl',\n",
       "  'name': 'random'},\n",
       " 'num_bank': 4,\n",
       " 'num_addr': 20,\n",
       " 'ks': [2]}"
      ]
     },
     "execution_count": 7,
     "metadata": {},
     "output_type": "execute_result"
    }
   ],
   "source": [
    "config"
   ]
  },
  {
   "cell_type": "code",
   "execution_count": 8,
   "id": "95487c1c-8afc-4d82-9b36-82236970d71b",
   "metadata": {},
   "outputs": [],
   "source": [
    "data = config[\"files\"][0]"
   ]
  },
  {
   "cell_type": "code",
   "execution_count": 9,
   "id": "70c82227-5349-4f28-937a-3b76b95142fd",
   "metadata": {
    "jupyter": {
     "source_hidden": true
    }
   },
   "outputs": [],
   "source": [
    "with open(os.path.join(data[\"folder\"],data[\"file\"]), \"rb\") as f:\n",
    "    sample = pickle.load(f)\n",
    "    content = sample[\"memory_perf\"]"
   ]
  },
  {
   "cell_type": "code",
   "execution_count": 10,
   "id": "ae1acf1b-7e22-46dd-a773-f51e07bc6238",
   "metadata": {
    "jupyter": {
     "source_hidden": true
    }
   },
   "outputs": [],
   "source": [
    "H.memory_program[\"core0\"] = sample[\"memory_program\"][\"core0\"]\n",
    "H.memory_program[\"core1\"] = sample[\"memory_program\"][\"core1\"]\n",
    "for key in sample[\"memory_perf\"].keys():\n",
    "    H.memory_perf[key]= list(sample[\"memory_perf\"][key])"
   ]
  },
  {
   "cell_type": "code",
   "execution_count": 11,
   "id": "5d4dafb6-f2f6-4240-9afd-5eb4cb68db01",
   "metadata": {},
   "outputs": [],
   "source": [
    "F = Features()"
   ]
  },
  {
   "cell_type": "code",
   "execution_count": null,
   "id": "7985e7f3-b943-473c-b7fc-79a6637a69bc",
   "metadata": {},
   "outputs": [],
   "source": []
  },
  {
   "cell_type": "code",
   "execution_count": 12,
   "id": "f07feeed-f08c-4137-81d1-1649d12066d1",
   "metadata": {},
   "outputs": [],
   "source": [
    "ratios_type = []\n",
    "other_type = []\n",
    "for m in modules:\n",
    "    if m[\"type\"] in [\"miss_ratios\",\"miss_ratios_detailled\",\"miss_count\"]:\n",
    "        ratios_type.append(m)\n",
    "    else:\n",
    "        other_type.append(m)"
   ]
  },
  {
   "cell_type": "code",
   "execution_count": 13,
   "id": "20b58a36-207a-43f7-badd-47c2be5368ab",
   "metadata": {},
   "outputs": [],
   "source": [
    "import torch\n",
    "import torch.nn as nn\n",
    "from torch import distributions"
   ]
  },
  {
   "cell_type": "code",
   "execution_count": 14,
   "id": "65c8924e-aebd-408b-b24d-205118ac8728",
   "metadata": {},
   "outputs": [],
   "source": [
    "class Tool:\n",
    "    def __init__(self):\n",
    "        #self.rep_ac = Representation_action(env.Na)\n",
    "        #self.rep_cl = Representation(env.Nx,env.Ny)\n",
    "        pass\n",
    "    def Qf(self,state:np.ndarray,action:np.ndarray):\n",
    "        return self.q(state,action)\n",
    "    def Qf_target(self,state:np.ndarray,action:np.ndarray):\n",
    "        return self.q_target(state,action)\n",
    "    def update_target_net(self):\n",
    "        for (name_q, param_q),(name_q_target,param_q_target) in zip(self.q.state_dict().items(),self.q_target.state_dict().items()):\n",
    "            param_q_target.copy_(self.tau*param_q + (1.0 - self.tau)*param_q_target)\n",
    "    def updatePi(self,\n",
    "                 api:dict,\n",
    "                 logpi,\n",
    "                 state:dict):\n",
    "        advantage = self.Qf(state,api).squeeze()\n",
    "        advantage = advantage.detach()\n",
    "        NegativPseudoLoss = torch.mean(torch.mul(logpi.squeeze(),advantage)) \n",
    "        NegativPseudoLoss.backward()\n",
    "        self.optimizerpi.step()\n",
    "        return NegativPseudoLoss\n",
    "    def updateQ(self,\n",
    "                states:dict,\n",
    "                actions:dict,\n",
    "                targets):  \n",
    "        for k in range(self.k):\n",
    "            self.optimizer_q.zero_grad()\n",
    "            loss = F.mse_loss(self.Qf(states,actions).squeeze(),targets.squeeze())\n",
    "            loss.backward()\n",
    "            self.optimizer_q.step()\n",
    "        return loss\n",
    "    def epsilon_greedy_policy(self,state:dict):\n",
    "        if np.random.binomial(1,self.epsilon):\n",
    "            out = np.random.randint(0,self.Na)\n",
    "        else:\n",
    "            out = self.p([state[\"cat\"]],[state[\"mouse\"]])\n",
    "            out = int(out.detach().item())\n",
    "        return out "
   ]
  },
  {
   "cell_type": "code",
   "execution_count": 210,
   "id": "d28746dd-f3bc-49ab-9e26-10d5fae6849e",
   "metadata": {},
   "outputs": [],
   "source": [
    "class Policy(nn.Module):\n",
    "    def __init__(self,\n",
    "                 first_layer_size:int,\n",
    "                 subdivision: np.ndarray,\n",
    "                ):\n",
    "        super(Policy,self).__init__()\n",
    "        self.first_layer_size = first_layer_size\n",
    "        self.subdivision = subdivision\n",
    "        self.linear1 = nn.Linear(self.first_layer_size,16)\n",
    "        self.linear2 = nn.Linear(16,16)\n",
    "        self.linear3 = nn.Linear(16,20)\n",
    "        self.actv = nn.Sigmoid()\n",
    "    def forward(self,x,logit = False):\n",
    "        x = torch.Tensor(x)\n",
    "        x = torch.mul(x,1.0/5000)\n",
    "        out = self.linear1(x)\n",
    "        out = self.actv(out)\n",
    "        out = self.linear2(out)\n",
    "        out  =self.actv(out)\n",
    "        logits = self.linear3(out)\n",
    "        #print(\"logits\", logits.shape)\n",
    "        dist = distributions.Categorical(torch.nn.functional.softmax(logits,dim=1))\n",
    "        action = dist.sample([1]).squeeze()\n",
    "        if logit:\n",
    "            return action,logits\n",
    "        else:\n",
    "            return action\n",
    "    "
   ]
  },
  {
   "cell_type": "code",
   "execution_count": 211,
   "id": "caa1e78e-f278-4a7d-900b-21ac261cb99a",
   "metadata": {},
   "outputs": [],
   "source": [
    "class Q(nn.Module):\n",
    "    def __init__(self,first_layer_size):\n",
    "        super(Q,self).__init__()\n",
    "        self.linear1 = nn.Linear(20,20)\n",
    "        self.encod = torch.eye(20)\n",
    "    def forward(self,state,action):\n",
    "        state = torch.Tensor(state*1.0/5000)\n",
    "        out = self.linear1(state)\n",
    "        out = torch.mul(self.encod[action],out)\n",
    "        out = torch.sum(out)\n",
    "        return out"
   ]
  },
  {
   "cell_type": "code",
   "execution_count": 212,
   "id": "663020e8-9101-48f2-bcdf-1193bf4d88f2",
   "metadata": {},
   "outputs": [],
   "source": [
    "policy = Policy(20,ratios_type[0][\"bins\"])"
   ]
  },
  {
   "cell_type": "code",
   "execution_count": 213,
   "id": "54fda8d6-c3b7-4a9b-b200-80f1e48c0fb4",
   "metadata": {},
   "outputs": [
    {
     "name": "stdout",
     "output_type": "stream",
     "text": [
      "21\n"
     ]
    }
   ],
   "source": [
    "print(len(policy.subdivision))"
   ]
  },
  {
   "cell_type": "code",
   "execution_count": 214,
   "id": "bdb011eb-05c3-4c5c-b500-16f2bec69d98",
   "metadata": {},
   "outputs": [],
   "source": [
    "q = Q(first_layer_size = 20)\n",
    "q_target = Q(first_layer_size = 20)"
   ]
  },
  {
   "cell_type": "code",
   "execution_count": 215,
   "id": "beeaaba7-fb54-467a-96e0-08d3e9fce518",
   "metadata": {},
   "outputs": [],
   "source": [
    "feature = F.data2feature(H.memory_perf,ratios_type[0])\n",
    "hist,_ = np.histogram(feature,bins=ratios_type[0][\"bins\"])"
   ]
  },
  {
   "cell_type": "code",
   "execution_count": 216,
   "id": "4f52e76c-027d-40bf-8687-6dd5dea7c9dc",
   "metadata": {},
   "outputs": [
    {
     "data": {
      "text/plain": [
       "tensor(-0.2113, grad_fn=<SumBackward0>)"
      ]
     },
     "execution_count": 216,
     "metadata": {},
     "output_type": "execute_result"
    }
   ],
   "source": [
    "q(hist.reshape((1,-1)),4)"
   ]
  },
  {
   "cell_type": "code",
   "execution_count": 217,
   "id": "3bb0683d-64da-4c87-847d-d10be9d2c387",
   "metadata": {},
   "outputs": [
    {
     "data": {
      "text/plain": [
       "tensor(0)"
      ]
     },
     "execution_count": 217,
     "metadata": {},
     "output_type": "execute_result"
    }
   ],
   "source": [
    "policy(hist.reshape((1,-1)))"
   ]
  },
  {
   "cell_type": "code",
   "execution_count": 248,
   "id": "24067139-c5a5-435e-92e3-676e8b1c9719",
   "metadata": {},
   "outputs": [],
   "source": [
    "class Buffer:\n",
    "    def __init__(self):\n",
    "        self.memory = {\"state\":[],\"action\":[],\"reward\":[],\"new_state\":[]}\n",
    "    def store(self,dict_):\n",
    "        for key in self.memory.keys():\n",
    "            self.memory[key].append(dict_[key])\n",
    "    def sample(self,N):\n",
    "        \"\"\"\n",
    "        returns dictionnary of state, action, new_state and reward\n",
    "        \"\"\"\n",
    "        assert(type(N)==int and N>0 and N<=len(self.memory[\"state\"]))\n",
    "        selection = torch.randint(0,len(self.memory[\"state\"]),(N,))\n",
    "        state = np.array([self.memory[\"state\"][j] for j in selection])\n",
    "        action = np.array([self.memory[\"action\"][j] for j in selection])\n",
    "        new_state = np.array([self.memory[\"new_state\"][j] for j in selection])\n",
    "        reward = np.array([self.memory[\"reward\"][j] for j in selection])\n",
    "        return {\"state\":state, \"action\":action, \"new_state\":new_state,\"reward\": reward}\n",
    "    def __len__(self):\n",
    "        return len(self.memory[\"state\"])\n",
    "\n"
   ]
  },
  {
   "cell_type": "code",
   "execution_count": 344,
   "id": "98ad7885-849d-4613-9785-d1c23ce317b9",
   "metadata": {},
   "outputs": [],
   "source": [
    "class Agent(Tool):\n",
    "    def __init__(self,\n",
    "                policy:Policy,\n",
    "                tau:float=0.01):\n",
    "        Tool.__init__(self)\n",
    "        self.policy = policy\n",
    "        self.buffer = buffer\n",
    "        self.q = q\n",
    "        self.q_target = q_target\n",
    "        self.tau = 0.01\n",
    "        self.gamma = .95\n",
    "        self.k = 3\n",
    "        self.optimizerpi = optim.Adam(self.p.parameters(),lr=   lr_pi)\n",
    "        self.optimizer_q = optim.Adam(self.q.parameters(), lr = lr_q)\n"
   ]
  },
  {
   "cell_type": "code",
   "execution_count": 342,
   "id": "eb9e97f9-c0de-433e-854a-b300b59f779d",
   "metadata": {},
   "outputs": [],
   "source": [
    "class GoalGenerator(Features,Tool):\n",
    "    def __init__(self,\n",
    "                 num_bank:int,\n",
    "                 modules:list,\n",
    "                 policy:Policy,\n",
    "                 q:Q,\n",
    "                 q_target:Q,\n",
    "                 H:History,\n",
    "                 buffer:Buffer,\n",
    "                 agent:Agent\n",
    "                 ):\n",
    "        #super().__init__()\n",
    "        Features.__init__(self)\n",
    "        Tool.__init__(self)\n",
    "        self.num_bank = num_bank\n",
    "        self.k_time = 0\n",
    "        self.k_miss = 0\n",
    "        self.modules = modules\n",
    "        #self.policy = policy\n",
    "        #self.buffer = buffer\n",
    "        #self.q = q\n",
    "        #self.q_target = q_target\n",
    "        #self.tau = 0.01\n",
    "        #self.gamma = .95\n",
    "        self.history = H\n",
    "        self.agent = agent\n",
    "        \n",
    "    def rand(self,stat)->np.ndarray:\n",
    "        min_ = stat.min(axis=-1)\n",
    "        max_ = stat.max(axis=-1)\n",
    "        out = np.random.uniform((1-np.sign(min_)*0.6)*min_,4.0*max_)\n",
    "        return out\n",
    "    def diversity_representation(self,module:dict):\n",
    "        feature = self.data2feature(self.history.memory_perf,m)\n",
    "        hist,_ = np.histogram(feature,bins=m[\"bins\"])\n",
    "        return hist\n",
    "    def __call__(self,H:History, module:str)->np.ndarray:\n",
    "        assert module in self.modules, f\"module {module} unknown\"\n",
    "        stat = self.diversity_representation(module)\n",
    "        if module[\"type\"] not in [\"miss_ratios\",\"miss_ratios_detailled\",\"miss_count\"]:\n",
    "            out = self.rand(stat)\n",
    "        else:\n",
    "            state  = self.diversity_representation(module)\n",
    "            module[\"state\"] = state\n",
    "            #if np.random.binomial(1,0.1):\n",
    "            if False:\n",
    "                out = self.rand(stat)\n",
    "            else:\n",
    "                action = self.policy(state.reshape((1,-1))).detach().numpy()\n",
    "                print(\"action\", action)\n",
    "                out = np.random.uniform(module[\"bins\"][action],module[\"bins\"][action+1])\n",
    "                module[\"action\"] = action\n",
    "        self.current_module = module\n",
    "        return out\n",
    "    def evaluate_reward(self,state,new_state):\n",
    "        return np.sum(new_state>0) - np.sum(state)   \n",
    "    def update(self,goal):\n",
    "        if self.current_module[\"type\"] in [\"miss_ratios\",\"miss_ratios_detailled\",\"miss_count\"]:\n",
    "            state = self.current_module[\"state\"]\n",
    "            new_state  = self.diversity_representation(self.current_module)\n",
    "            reward = self.evaluate_reward(state,new_state)\n",
    "            self.buffer.store({\"state\":state,\"action\":self.current_module[\"action\"],\"reward\":reward,\"new_state\":new_state})\n",
    "            sample = self.buffer.sample(min(5,len(self.buffer)))\n",
    "            a_prim = self.policy(sample[\"state\"])\n",
    "            targets = torch.Tensor(sample[\"reward\"]) + self.gamma*self.Qf_target(sample[\"new_state\"],a_prim).detach().squeeze()\n",
    "            loss_ = self.updateQ(sample[\"state\"],sample[\"action\"],targets)\n",
    "            print(\"targets\",targets)\n",
    "            print(\"b\")\n",
    "            return 0\n",
    "            #update policy and value function\n",
    "            #print(buffer.memory)\n",
    "            #print(\"buffer\",)\n",
    "            \n",
    "            "
   ]
  },
  {
   "cell_type": "code",
   "execution_count": 324,
   "id": "1f71fe6a-0518-4e8b-aed0-fb3583af7159",
   "metadata": {},
   "outputs": [],
   "source": [
    "class IMGEP_:\n",
    "    \"\"\"\n",
    "    N: int. The experimental budget\n",
    "    N_init: int. Number of experiments at random\n",
    "    H: History. Buffer containing codes and signature pairs\n",
    "    G: GoalGenerator.\n",
    "    Pi: OptimizationPolicy.\n",
    "    \"\"\"\n",
    "    def __init__(self,\n",
    "                 N:int,\n",
    "                 N_init:int,\n",
    "                 E:Env,\n",
    "                 H:History,\n",
    "                 G:GoalGenerator, \n",
    "                 Pi:OptimizationPolicykNN,\n",
    "                 ir:IR,\n",
    "                 modules:list[dict],\n",
    "                 periode:int = 1,\n",
    "                 max_len:int = 100):\n",
    "        self.N = N\n",
    "        self.env = E\n",
    "        self.H = H\n",
    "        self.G = G\n",
    "        self.N_init = N_init\n",
    "        self.Pi = Pi\n",
    "        self.ir = ir\n",
    "        self.periode = periode\n",
    "        self.modules = modules \n",
    "        self.max_len = max_len\n",
    "        self.start = 0\n",
    "        self.periode_expl = 10\n",
    "        self.k = 0\n",
    "    def take(self,sample:dict,N_init:int): \n",
    "        \"\"\"Takes the ``N_init`` first steps from the ``sample`` dictionnary to initialize the exploration. \n",
    "        Then the iterator i is set to N_init directly\n",
    "        \"\"\"\n",
    "        print(\"sampl\", sample.keys())\n",
    "        for key in sample[\"memory_perf\"].keys():\n",
    "            self.H.memory_perf[key]= list(sample[\"memory_perf\"][key][:N_init])\n",
    "        self.H.memory_program[\"core0\"] = sample[\"memory_program\"][\"core0\"][:N_init]\n",
    "        self.H.memory_program[\"core1\"] = sample[\"memory_program\"][\"core1\"][:N_init]\n",
    "        self.start = N_init"
   ]
  },
  {
   "cell_type": "code",
   "execution_count": 325,
   "id": "87085ad6-c4ad-4f0f-a7fc-8ca67c1d60f2",
   "metadata": {},
   "outputs": [],
   "source": [
    "class IMGEP(IMGEP_):\n",
    "    def __init__(self,\n",
    "                 N:int,\n",
    "                 N_init:int,\n",
    "                 E:Env,\n",
    "                 H:History,\n",
    "                 G:GoalGenerator, \n",
    "                 Pi:OptimizationPolicykNN,\n",
    "                 ir:IR,\n",
    "                 modules:list[dict],\n",
    "                 periode:int = 1,\n",
    "                 max_len:int = 100):\n",
    "        super(IMGEP,self).__init__(N,N_init, En,H,G,Pi,ir=None, modules = modules, periode = periode, max_len = max_len)\n",
    "    def __call__(self,intr_reward=True):\n",
    "        \n",
    "        \"\"\"Performs the exploration.\n",
    "        intr_reward:bool. If True, the exploration uses intrinsic reward based on diversity\n",
    "        \"\"\"\n",
    "        time_explor = 0\n",
    "        for i in range(self.start,self.N+1):\n",
    "            if i%100==0:\n",
    "                print(f\"{i} iterations\")\n",
    "            if i<time_explor:\n",
    "                continue\n",
    "            if i<self.N_init:\n",
    "                parameter = make_random_paire_list_instr(self.max_len,num_addr=self.env.num_addr)\n",
    "            else:\n",
    "                if intr_reward:\n",
    "                    #Sample target goal\n",
    "                    if (i-self.N_init)%(self.periode_expl*self.periode)==0:\n",
    "                        self.ir(self.N)\n",
    "                        time_explor = i + self.ir.num_iteration*len(self.ir.modules)\n",
    "                        print(\"time explor\", time_explor)\n",
    "                        module = self.ir.choice()\n",
    "                        goal = self.G(self.H, module = module)\n",
    "                        continue\n",
    "                    elif (i-self.N_init)%self.periode==0:\n",
    "                        module = self.ir.choice()\n",
    "                        goal = self.G(self.H, module = module)\n",
    "                else:\n",
    "                    if (i-self.N_init)%self.periode==0 and i>=self.N_init:\n",
    "                        module = random.choice(self.modules)\n",
    "                        goal = self.G(self.H, module = module)\n",
    "                #print(\"module\", module)\n",
    "                #print(\"goal\",goal)\n",
    "                parameter = self.Pi(goal,self.H, module)\n",
    "            observation = self.env(parameter)\n",
    "            self.H.store({\"program\":parameter}|observation)\n",
    "            if i>=self.N_init:\n",
    "                self.G.update(goal)\n",
    "                return 0"
   ]
  },
  {
   "cell_type": "code",
   "execution_count": 326,
   "id": "81f9f3dc-269b-42a5-ac8f-66b31b5c11a9",
   "metadata": {},
   "outputs": [],
   "source": [
    "num_bank = 4"
   ]
  },
  {
   "cell_type": "code",
   "execution_count": 327,
   "id": "1f4c3390-134d-47f7-a6c2-99248d2c0f1d",
   "metadata": {},
   "outputs": [],
   "source": [
    "buffer = Buffer()"
   ]
  },
  {
   "cell_type": "code",
   "execution_count": null,
   "id": "a66bc175-b68d-4f7e-aa68-32d61655142c",
   "metadata": {},
   "outputs": [],
   "source": []
  },
  {
   "cell_type": "code",
   "execution_count": 328,
   "id": "907b85cf-8e4d-4df4-b443-326e6196bbd5",
   "metadata": {},
   "outputs": [],
   "source": [
    "G = GoalGenerator(num_bank,ratios_type,policy,q,q_target,H,buffer)"
   ]
  },
  {
   "cell_type": "code",
   "execution_count": 329,
   "id": "806d4fb1-148d-4b2f-b30d-25c881b3f4a8",
   "metadata": {},
   "outputs": [
    {
     "data": {
      "text/plain": [
       "tensor(0.1269, grad_fn=<SumBackward0>)"
      ]
     },
     "execution_count": 329,
     "metadata": {},
     "output_type": "execute_result"
    }
   ],
   "source": [
    "G.Qf_target(hist,-1)"
   ]
  },
  {
   "cell_type": "code",
   "execution_count": 330,
   "id": "6911b21e-3fb1-4f51-8390-6aee52141492",
   "metadata": {},
   "outputs": [],
   "source": [
    "feature = F.data2feature(H.memory_perf,ratios_type[0])\n",
    "hist,_ = np.histogram(feature,bins=ratios_type[0][\"bins\"])"
   ]
  },
  {
   "cell_type": "code",
   "execution_count": 331,
   "id": "2d18d17b-091d-4cd3-859c-653b0b6519a0",
   "metadata": {},
   "outputs": [],
   "source": [
    "N_init = 100\n",
    "N = 1000\n",
    "periode  =5\n",
    "max_len = 50\n",
    "num_banks = 4\n",
    "num_addr = 20\n",
    "mutation_rate = 0.1\n"
   ]
  },
  {
   "cell_type": "code",
   "execution_count": 332,
   "id": "3322825e-d1ee-4a3b-be12-f03ba3752fb8",
   "metadata": {},
   "outputs": [],
   "source": [
    "periode = config_data[\"periode\"]\n",
    "mutation_rate = config_data[\"mutation_rate\"]\n",
    "N = config_data[\"N\"]\n",
    "N_init = config_data[\"N_init\"]\n",
    "num_bank = config_data[\"num_bank\"]\n",
    "max_len = config_data[\"max_len\"]\n",
    "min_len = config_data[\"min_len\"]\n",
    "folder = config_data[\"folder\"]\n",
    "num_addr = config_data[\"num_addr\"]\n",
    "num_iteration = config_data[\"num_iteration\"]"
   ]
  },
  {
   "cell_type": "code",
   "execution_count": 333,
   "id": "3277c5ef-28a1-4628-b4ab-1231fe7010cf",
   "metadata": {},
   "outputs": [],
   "source": [
    "En = Env(repetition=1,num_banks = num_bank,num_addr = num_addr)"
   ]
  },
  {
   "cell_type": "code",
   "execution_count": 334,
   "id": "baf61a12-7060-4ca3-bd4e-fedff7fd9b08",
   "metadata": {},
   "outputs": [],
   "source": [
    "k =2\n",
    "Pi = OptimizationPolicykNN(k=k,mutation_rate=mutation_rate,max_len=max_len,num_addr=num_addr,num_bank=num_bank,min_instr=min_len,max_instr=max_len)"
   ]
  },
  {
   "cell_type": "code",
   "execution_count": 335,
   "id": "8c5644fb-f4e9-4d37-a34b-06b771a60502",
   "metadata": {},
   "outputs": [],
   "source": [
    "imgep = IMGEP(N,N_init, En,H,G,Pi,ir=None, modules = ratios_type, periode = periode, max_len = max_len)"
   ]
  },
  {
   "cell_type": "code",
   "execution_count": 336,
   "id": "c879fcac-60de-4159-9365-21a3d4340fe5",
   "metadata": {},
   "outputs": [
    {
     "name": "stdout",
     "output_type": "stream",
     "text": [
      "0 iterations\n",
      "100 iterations\n",
      "action 13\n",
      "out (14062,)\n"
     ]
    },
    {
     "ename": "AttributeError",
     "evalue": "'GoalGenerator' object has no attribute 'optimizer_q'",
     "output_type": "error",
     "traceback": [
      "\u001b[0;31m---------------------------------------------------------------------------\u001b[0m",
      "\u001b[0;31mAttributeError\u001b[0m                            Traceback (most recent call last)",
      "Cell \u001b[0;32mIn[336], line 1\u001b[0m\n\u001b[0;32m----> 1\u001b[0m \u001b[43mimgep\u001b[49m\u001b[43m(\u001b[49m\u001b[43mintr_reward\u001b[49m\u001b[38;5;241;43m=\u001b[39;49m\u001b[38;5;28;43;01mFalse\u001b[39;49;00m\u001b[43m)\u001b[49m\n",
      "Cell \u001b[0;32mIn[325], line 50\u001b[0m, in \u001b[0;36mIMGEP.__call__\u001b[0;34m(self, intr_reward)\u001b[0m\n\u001b[1;32m     48\u001b[0m \u001b[38;5;28mself\u001b[39m\u001b[38;5;241m.\u001b[39mH\u001b[38;5;241m.\u001b[39mstore({\u001b[38;5;124m\"\u001b[39m\u001b[38;5;124mprogram\u001b[39m\u001b[38;5;124m\"\u001b[39m:parameter}\u001b[38;5;241m|\u001b[39mobservation)\n\u001b[1;32m     49\u001b[0m \u001b[38;5;28;01mif\u001b[39;00m i\u001b[38;5;241m>\u001b[39m\u001b[38;5;241m=\u001b[39m\u001b[38;5;28mself\u001b[39m\u001b[38;5;241m.\u001b[39mN_init:\n\u001b[0;32m---> 50\u001b[0m     \u001b[38;5;28;43mself\u001b[39;49m\u001b[38;5;241;43m.\u001b[39;49m\u001b[43mG\u001b[49m\u001b[38;5;241;43m.\u001b[39;49m\u001b[43mupdate\u001b[49m\u001b[43m(\u001b[49m\u001b[43mgoal\u001b[49m\u001b[43m)\u001b[49m\n\u001b[1;32m     51\u001b[0m     \u001b[38;5;28;01mreturn\u001b[39;00m \u001b[38;5;241m0\u001b[39m\n",
      "Cell \u001b[0;32mIn[323], line 64\u001b[0m, in \u001b[0;36mGoalGenerator.update\u001b[0;34m(self, goal)\u001b[0m\n\u001b[1;32m     62\u001b[0m a_prim \u001b[38;5;241m=\u001b[39m \u001b[38;5;28mself\u001b[39m\u001b[38;5;241m.\u001b[39mpolicy(sample[\u001b[38;5;124m\"\u001b[39m\u001b[38;5;124mstate\u001b[39m\u001b[38;5;124m\"\u001b[39m])\n\u001b[1;32m     63\u001b[0m targets \u001b[38;5;241m=\u001b[39m torch\u001b[38;5;241m.\u001b[39mTensor(sample[\u001b[38;5;124m\"\u001b[39m\u001b[38;5;124mreward\u001b[39m\u001b[38;5;124m\"\u001b[39m]) \u001b[38;5;241m+\u001b[39m \u001b[38;5;28mself\u001b[39m\u001b[38;5;241m.\u001b[39mgamma\u001b[38;5;241m*\u001b[39m\u001b[38;5;28mself\u001b[39m\u001b[38;5;241m.\u001b[39mQf_target(sample[\u001b[38;5;124m\"\u001b[39m\u001b[38;5;124mnew_state\u001b[39m\u001b[38;5;124m\"\u001b[39m],a_prim)\u001b[38;5;241m.\u001b[39mdetach()\u001b[38;5;241m.\u001b[39msqueeze()\n\u001b[0;32m---> 64\u001b[0m loss_ \u001b[38;5;241m=\u001b[39m \u001b[38;5;28;43mself\u001b[39;49m\u001b[38;5;241;43m.\u001b[39;49m\u001b[43mupdateQ\u001b[49m\u001b[43m(\u001b[49m\u001b[43msample\u001b[49m\u001b[43m[\u001b[49m\u001b[38;5;124;43m\"\u001b[39;49m\u001b[38;5;124;43mstate\u001b[39;49m\u001b[38;5;124;43m\"\u001b[39;49m\u001b[43m]\u001b[49m\u001b[43m,\u001b[49m\u001b[43msample\u001b[49m\u001b[43m[\u001b[49m\u001b[38;5;124;43m\"\u001b[39;49m\u001b[38;5;124;43maction\u001b[39;49m\u001b[38;5;124;43m\"\u001b[39;49m\u001b[43m]\u001b[49m\u001b[43m,\u001b[49m\u001b[43mtargets\u001b[49m\u001b[43m)\u001b[49m\n\u001b[1;32m     65\u001b[0m \u001b[38;5;28mprint\u001b[39m(\u001b[38;5;124m\"\u001b[39m\u001b[38;5;124mtargets\u001b[39m\u001b[38;5;124m\"\u001b[39m,targets)\n\u001b[1;32m     66\u001b[0m \u001b[38;5;28mprint\u001b[39m(\u001b[38;5;124m\"\u001b[39m\u001b[38;5;124mb\u001b[39m\u001b[38;5;124m\"\u001b[39m)\n",
      "Cell \u001b[0;32mIn[14], line 31\u001b[0m, in \u001b[0;36mTool.updateQ\u001b[0;34m(self, states, actions, targets)\u001b[0m\n\u001b[1;32m     26\u001b[0m \u001b[38;5;28;01mdef\u001b[39;00m\u001b[38;5;250m \u001b[39m\u001b[38;5;21mupdateQ\u001b[39m(\u001b[38;5;28mself\u001b[39m,\n\u001b[1;32m     27\u001b[0m             states:\u001b[38;5;28mdict\u001b[39m,\n\u001b[1;32m     28\u001b[0m             actions:\u001b[38;5;28mdict\u001b[39m,\n\u001b[1;32m     29\u001b[0m             targets):  \n\u001b[1;32m     30\u001b[0m     \u001b[38;5;28;01mfor\u001b[39;00m k \u001b[38;5;129;01min\u001b[39;00m \u001b[38;5;28mrange\u001b[39m(\u001b[38;5;28mself\u001b[39m\u001b[38;5;241m.\u001b[39mk):\n\u001b[0;32m---> 31\u001b[0m         \u001b[38;5;28;43mself\u001b[39;49m\u001b[38;5;241;43m.\u001b[39;49m\u001b[43moptimizer_q\u001b[49m\u001b[38;5;241m.\u001b[39mzero_grad()\n\u001b[1;32m     32\u001b[0m         loss \u001b[38;5;241m=\u001b[39m F\u001b[38;5;241m.\u001b[39mmse_loss(\u001b[38;5;28mself\u001b[39m\u001b[38;5;241m.\u001b[39mQf(states,actions)\u001b[38;5;241m.\u001b[39msqueeze(),targets\u001b[38;5;241m.\u001b[39msqueeze())\n\u001b[1;32m     33\u001b[0m         loss\u001b[38;5;241m.\u001b[39mbackward()\n",
      "\u001b[0;31mAttributeError\u001b[0m: 'GoalGenerator' object has no attribute 'optimizer_q'"
     ]
    }
   ],
   "source": [
    "imgep(intr_reward=False)"
   ]
  },
  {
   "cell_type": "code",
   "execution_count": 306,
   "id": "73c218b3-6438-46e7-a73e-3acd843c6d3a",
   "metadata": {},
   "outputs": [
    {
     "name": "stdout",
     "output_type": "stream",
     "text": [
      "action 6\n"
     ]
    },
    {
     "data": {
      "text/plain": [
       "0.32124607521468473"
      ]
     },
     "execution_count": 306,
     "metadata": {},
     "output_type": "execute_result"
    }
   ],
   "source": [
    "G(H,ratios_type[3])\n",
    "\n"
   ]
  },
  {
   "cell_type": "code",
   "execution_count": 78,
   "id": "b1c3db86-4c3d-43e9-adf3-4b4168c19a0c",
   "metadata": {},
   "outputs": [
    {
     "data": {
      "text/plain": [
       "(4, 11001)"
      ]
     },
     "execution_count": 78,
     "metadata": {},
     "output_type": "execute_result"
    }
   ],
   "source": [
    "F.data2feature(H.memory_perf,modules[0]).shape"
   ]
  },
  {
   "cell_type": "code",
   "execution_count": 21,
   "id": "74f75095-8551-4959-94e8-49452b74a467",
   "metadata": {},
   "outputs": [
    {
     "data": {
      "text/plain": [
       "dict_keys(['miss_ratios', 'miss_ratios_global', 'miss_ratios_global0', 'miss_ratios_global1', 'miss_ratios_core0', 'miss_ratios_core1', 'time_core0_together', 'time_core1_together', 'time_core0_alone', 'time_core1_alone', 'miss_count', 'miss_count_core0', 'miss_count_core1', 'diff_ratios_core0', 'diff_ratios_core1', 'diff_time0', 'diff_time1', 'miss_ratios_detailled', 'miss_ratios_core0_detailled', 'miss_ratios_core1_detailled'])"
      ]
     },
     "execution_count": 21,
     "metadata": {},
     "output_type": "execute_result"
    }
   ],
   "source": [
    "content.keys()"
   ]
  },
  {
   "cell_type": "code",
   "execution_count": 23,
   "id": "45cf0120-d69b-491f-bd3e-99dbb8a0c19e",
   "metadata": {},
   "outputs": [],
   "source": [
    "import matplotlib.pyplot as plt"
   ]
  },
  {
   "cell_type": "code",
   "execution_count": 26,
   "id": "34266df0-3b05-42d2-b6c2-ac3427e9b35e",
   "metadata": {},
   "outputs": [
    {
     "data": {
      "text/plain": [
       "(10000, 2, 4)"
      ]
     },
     "execution_count": 26,
     "metadata": {},
     "output_type": "execute_result"
    }
   ],
   "source": [
    "content[\"miss_ratios_core0_detailled\"].shape"
   ]
  },
  {
   "cell_type": "code",
   "execution_count": 30,
   "id": "e463cb37-c3d8-40c0-a85b-fad2328d82cc",
   "metadata": {},
   "outputs": [],
   "source": [
    "bank = 3\n",
    "row = 1"
   ]
  },
  {
   "cell_type": "code",
   "execution_count": null,
   "id": "448636a5-1a44-4c86-a67d-561b4c321805",
   "metadata": {},
   "outputs": [],
   "source": []
  },
  {
   "cell_type": "code",
   "execution_count": 31,
   "id": "22a5835f-1c70-41fa-bd8e-f7dd693a312f",
   "metadata": {},
   "outputs": [
    {
     "data": {
      "text/plain": [
       "<matplotlib.collections.PathCollection at 0x788f5c3be200>"
      ]
     },
     "execution_count": 31,
     "metadata": {},
     "output_type": "execute_result"
    },
    {
     "data": {
      "image/png": "[encoded data removed]",
      "text/plain": [
       "<Figure size 640x480 with 1 Axes>"
      ]
     },
     "metadata": {},
     "output_type": "display_data"
    }
   ],
   "source": [
    "plt.scatter(content[\"miss_ratios_core0_detailled\"][:,row,bank],content[\"miss_ratios_detailled\"][:,row,bank])"
   ]
  },
  {
   "cell_type": "code",
   "execution_count": 38,
   "id": "0e12eb46-d604-4da1-a113-152fcc34c9d0",
   "metadata": {},
   "outputs": [],
   "source": [
    "F = Features()"
   ]
  },
  {
   "cell_type": "code",
   "execution_count": 39,
   "id": "2e201136-3317-499b-80f4-fb4ff97e6087",
   "metadata": {},
   "outputs": [
    {
     "ename": "TypeError",
     "evalue": "GoalGenerator.__init__() missing 2 required positional arguments: 'num_bank' and 'modules'",
     "output_type": "error",
     "traceback": [
      "\u001b[0;31m---------------------------------------------------------------------------\u001b[0m",
      "\u001b[0;31mTypeError\u001b[0m                                 Traceback (most recent call last)",
      "Cell \u001b[0;32mIn[39], line 1\u001b[0m\n\u001b[0;32m----> 1\u001b[0m G \u001b[38;5;241m=\u001b[39m \u001b[43mGoalGenerator\u001b[49m\u001b[43m(\u001b[49m\u001b[43m)\u001b[49m\n",
      "\u001b[0;31mTypeError\u001b[0m: GoalGenerator.__init__() missing 2 required positional arguments: 'num_bank' and 'modules'"
     ]
    }
   ],
   "source": [
    "G = GoalGenerator()"
   ]
  },
  {
   "cell_type": "code",
   "execution_count": null,
   "id": "74ccebe2-b39e-493b-b240-9d0c1a3d6f0a",
   "metadata": {},
   "outputs": [],
   "source": []
  }
 ],
 "metadata": {
  "kernelspec": {
   "display_name": "Python 3 (ipykernel)",
   "language": "python",
   "name": "python3"
  },
  "language_info": {
   "codemirror_mode": {
    "name": "ipython",
    "version": 3
   },
   "file_extension": ".py",
   "mimetype": "text/x-python",
   "name": "python",
   "nbconvert_exporter": "python",
   "pygments_lexer": "ipython3",
   "version": "3.10.12"
  }
 },
 "nbformat": 4,
 "nbformat_minor": 5
}
